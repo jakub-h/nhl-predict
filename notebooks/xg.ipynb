{
 "metadata": {
  "language_info": {
   "codemirror_mode": {
    "name": "ipython",
    "version": 3
   },
   "file_extension": ".py",
   "mimetype": "text/x-python",
   "name": "python",
   "nbconvert_exporter": "python",
   "pygments_lexer": "ipython3",
   "version": "3.9.5"
  },
  "orig_nbformat": 2,
  "kernelspec": {
   "name": "python394jvsc74a57bd084871e1a7e6c58d7d615c0c6dfcc58ded89127a2f912c57d10b6845b9b0a03fa",
   "display_name": "Python 3.9.5 64-bit ('nhl-predict': virtualenvwrapper)"
  },
  "metadata": {
   "interpreter": {
    "hash": "84871e1a7e6c58d7d615c0c6dfcc58ded89127a2f912c57d10b6845b9b0a03fa"
   }
  }
 },
 "nbformat": 4,
 "nbformat_minor": 2,
 "cells": [
  {
   "cell_type": "code",
   "execution_count": 1,
   "metadata": {},
   "outputs": [],
   "source": [
    "from pathlib import Path\n",
    "from src.xg_model import XGModel, XGModelNN"
   ]
  },
  {
   "cell_type": "code",
   "execution_count": 2,
   "metadata": {},
   "outputs": [
    {
     "output_type": "stream",
     "name": "stdout",
     "text": [
      "        distance     angle  distance_change  angle_change  time_change  \\\n461813  0.127822  0.437167         0.285197      0.410787     0.835044   \n785084  0.177421  0.795167         0.104817      0.612403     0.813142   \n708796  0.671248  0.564278         0.753264      0.444079     0.817248   \n891009  0.261322  0.371937         0.211455      0.457988     0.815880   \n468814  0.868121  0.520936         0.533323      0.516509     0.814511   \n...          ...       ...              ...           ...          ...   \n462870  0.796513  0.529046         0.551783      0.560245     0.811088   \n721884  0.278686  0.404985         0.575509      0.319919     0.817933   \n686331  0.104365  0.500000         0.443006      0.418257     0.814511   \n282987  0.312240  0.640563         0.480987      0.477322     0.809719   \n690063  0.649150  0.574285         0.751914      0.304754     0.832307   \n\n        prev_event_same_team  is_home  goal_diff  shot_type-Backhand  \\\n461813                   0.0      1.0       0.40                 1.0   \n785084                   0.0      0.0       0.50                 0.0   \n708796                   0.0      0.0       0.55                 0.0   \n891009                   1.0      0.0       0.55                 0.0   \n468814                   1.0      0.0       0.40                 1.0   \n...                      ...      ...        ...                 ...   \n462870                   0.0      1.0       0.45                 0.0   \n721884                   1.0      1.0       0.45                 0.0   \n686331                   1.0      1.0       0.45                 0.0   \n282987                   0.0      1.0       0.50                 0.0   \n690063                   1.0      0.0       0.40                 0.0   \n\n        shot_type-Deflected  ...  shot_type-Wrist  \\\n461813                  0.0  ...              0.0   \n785084                  0.0  ...              0.0   \n708796                  0.0  ...              1.0   \n891009                  0.0  ...              1.0   \n468814                  0.0  ...              0.0   \n...                     ...  ...              ...   \n462870                  0.0  ...              0.0   \n721884                  0.0  ...              0.0   \n686331                  0.0  ...              0.0   \n282987                  0.0  ...              1.0   \n690063                  0.0  ...              0.0   \n\n        prev_event_type-BLOCKED_SHOT  prev_event_type-FACEOFF  \\\n461813                           0.0                      0.0   \n785084                           0.0                      0.0   \n708796                           0.0                      0.0   \n891009                           0.0                      1.0   \n468814                           0.0                      0.0   \n...                              ...                      ...   \n462870                           0.0                      0.0   \n721884                           0.0                      1.0   \n686331                           0.0                      0.0   \n282987                           0.0                      0.0   \n690063                           0.0                      0.0   \n\n        prev_event_type-GIVEAWAY  prev_event_type-GOAL  prev_event_type-HIT  \\\n461813                       0.0                   0.0                  1.0   \n785084                       0.0                   0.0                  1.0   \n708796                       0.0                   0.0                  0.0   \n891009                       0.0                   0.0                  0.0   \n468814                       0.0                   0.0                  0.0   \n...                          ...                   ...                  ...   \n462870                       0.0                   0.0                  1.0   \n721884                       0.0                   0.0                  0.0   \n686331                       0.0                   0.0                  0.0   \n282987                       1.0                   0.0                  0.0   \n690063                       0.0                   0.0                  1.0   \n\n        prev_event_type-MISSED_SHOT  prev_event_type-PENALTY  \\\n461813                          0.0                      0.0   \n785084                          0.0                      0.0   \n708796                          0.0                      0.0   \n891009                          0.0                      0.0   \n468814                          1.0                      0.0   \n...                             ...                      ...   \n462870                          0.0                      0.0   \n721884                          0.0                      0.0   \n686331                          1.0                      0.0   \n282987                          0.0                      0.0   \n690063                          0.0                      0.0   \n\n        prev_event_type-SHOT  prev_event_type-TAKEAWAY  \n461813                   0.0                       0.0  \n785084                   0.0                       0.0  \n708796                   1.0                       0.0  \n891009                   0.0                       0.0  \n468814                   0.0                       0.0  \n...                      ...                       ...  \n462870                   0.0                       0.0  \n721884                   0.0                       0.0  \n686331                   0.0                       0.0  \n282987                   0.0                       0.0  \n690063                   0.0                       0.0  \n\n[721832 rows x 25 columns]\n461813    0\n785084    0\n708796    0\n891009    0\n468814    0\n         ..\n462870    0\n721884    0\n686331    0\n282987    0\n690063    0\nName: outcome, Length: 721832, dtype: int64\n"
     ]
    }
   ],
   "source": [
    "model = XGModelNN(\"../data\")\n",
    "model.fit()"
   ]
  },
  {
   "source": [
    "Fit model\n"
   ],
   "cell_type": "markdown",
   "metadata": {}
  },
  {
   "cell_type": "code",
   "execution_count": 2,
   "metadata": {},
   "outputs": [],
   "source": [
    "cv = pickle.load(open(\"../models/logistic_xg.pkl\", \"rb\"))"
   ]
  },
  {
   "cell_type": "code",
   "execution_count": 3,
   "metadata": {},
   "outputs": [
    {
     "output_type": "stream",
     "name": "stdout",
     "text": [
      "2007\n",
      "Rink Adjust\n",
      "Get previous info\n",
      "Empty nets\n",
      "Get New Stuff\n"
     ]
    }
   ],
   "source": [
    "data = get_data(Path(\"../\"))\n",
    "\n",
    "data['Outcome'] = np.where(data['Outcome'] == 0, 0, np.where(data['Outcome'] == 1, 0, np.where(data['Outcome'] == 2, 1, 3)))\n",
    "\n",
    "data = data[data['Outcome'] != 3]\n",
    "\n",
    "# Convert to lists\n",
    "features, labels = convert_data(data)"
   ]
  },
  {
   "cell_type": "code",
   "execution_count": 4,
   "metadata": {},
   "outputs": [],
   "source": [
    "x_train, x_test, y_train, y_test = train_test_split(features, labels, test_size=.2, random_state=42)"
   ]
  },
  {
   "cell_type": "code",
   "execution_count": 5,
   "metadata": {},
   "outputs": [
    {
     "output_type": "execute_result",
     "data": {
      "text/plain": [
       "0.9322800465612572"
      ]
     },
     "metadata": {},
     "execution_count": 5
    }
   ],
   "source": [
    "cv.best_estimator_.score(x_train, y_train)"
   ]
  },
  {
   "cell_type": "code",
   "execution_count": 6,
   "metadata": {},
   "outputs": [
    {
     "output_type": "execute_result",
     "data": {
      "text/plain": [
       "0.9318071587932875"
      ]
     },
     "metadata": {},
     "execution_count": 6
    }
   ],
   "source": [
    "cv.best_estimator_.score(x_test, y_test)"
   ]
  }
 ]
}