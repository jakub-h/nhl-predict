{
 "metadata": {
  "language_info": {
   "codemirror_mode": {
    "name": "ipython",
    "version": 3
   },
   "file_extension": ".py",
   "mimetype": "text/x-python",
   "name": "python",
   "nbconvert_exporter": "python",
   "pygments_lexer": "ipython3",
   "version": "3.9.5"
  },
  "orig_nbformat": 2,
  "kernelspec": {
   "name": "python394jvsc74a57bd084871e1a7e6c58d7d615c0c6dfcc58ded89127a2f912c57d10b6845b9b0a03fa",
   "display_name": "Python 3.9.4 64-bit ('nhl-predict': virtualenvwrapper)"
  },
  "metadata": {
   "interpreter": {
    "hash": "84871e1a7e6c58d7d615c0c6dfcc58ded89127a2f912c57d10b6845b9b0a03fa"
   }
  }
 },
 "nbformat": 4,
 "nbformat_minor": 2,
 "cells": [
  {
   "cell_type": "code",
   "execution_count": 1,
   "metadata": {},
   "outputs": [],
   "source": [
    "from pathlib import Path\n",
    "from src.xg_model import XGModel"
   ]
  },
  {
   "cell_type": "code",
   "execution_count": 2,
   "metadata": {},
   "outputs": [],
   "source": [
    "model = XGModel(\"../data\", clf=None)"
   ]
  },
  {
   "source": [
    "Fit model\n"
   ],
   "cell_type": "markdown",
   "metadata": {}
  },
  {
   "cell_type": "code",
   "execution_count": 2,
   "metadata": {},
   "outputs": [],
   "source": [
    "cv = pickle.load(open(\"../models/logistic_xg.pkl\", \"rb\"))"
   ]
  },
  {
   "cell_type": "code",
   "execution_count": 3,
   "metadata": {},
   "outputs": [
    {
     "output_type": "stream",
     "name": "stdout",
     "text": [
      "2007\n",
      "Rink Adjust\n",
      "Get previous info\n",
      "Empty nets\n",
      "Get New Stuff\n"
     ]
    }
   ],
   "source": [
    "data = get_data(Path(\"../\"))\n",
    "\n",
    "data['Outcome'] = np.where(data['Outcome'] == 0, 0, np.where(data['Outcome'] == 1, 0, np.where(data['Outcome'] == 2, 1, 3)))\n",
    "\n",
    "data = data[data['Outcome'] != 3]\n",
    "\n",
    "# Convert to lists\n",
    "features, labels = convert_data(data)"
   ]
  },
  {
   "cell_type": "code",
   "execution_count": 4,
   "metadata": {},
   "outputs": [],
   "source": [
    "x_train, x_test, y_train, y_test = train_test_split(features, labels, test_size=.2, random_state=42)"
   ]
  },
  {
   "cell_type": "code",
   "execution_count": 5,
   "metadata": {},
   "outputs": [
    {
     "output_type": "execute_result",
     "data": {
      "text/plain": [
       "0.9322800465612572"
      ]
     },
     "metadata": {},
     "execution_count": 5
    }
   ],
   "source": [
    "cv.best_estimator_.score(x_train, y_train)"
   ]
  },
  {
   "cell_type": "code",
   "execution_count": 6,
   "metadata": {},
   "outputs": [
    {
     "output_type": "execute_result",
     "data": {
      "text/plain": [
       "0.9318071587932875"
      ]
     },
     "metadata": {},
     "execution_count": 6
    }
   ],
   "source": [
    "cv.best_estimator_.score(x_test, y_test)"
   ]
  }
 ]
}