{
 "metadata": {
  "language_info": {
   "codemirror_mode": {
    "name": "ipython",
    "version": 3
   },
   "file_extension": ".py",
   "mimetype": "text/x-python",
   "name": "python",
   "nbconvert_exporter": "python",
   "pygments_lexer": "ipython3",
   "version": "3.9.4-final"
  },
  "orig_nbformat": 2,
  "kernelspec": {
   "name": "python394jvsc74a57bd00c9acb80114d75111e08c987f5bf86b38069c9b8447ed2432288d99bf01e48a5",
   "display_name": "Python 3.9.4 64-bit ('nhl-predict': venv)",
   "language": "python"
  }
 },
 "nbformat": 4,
 "nbformat_minor": 2,
 "cells": [
  {
   "source": [
    "# Betting sandbox"
   ],
   "cell_type": "markdown",
   "metadata": {}
  },
  {
   "cell_type": "code",
   "execution_count": 1,
   "metadata": {},
   "outputs": [],
   "source": [
    "from pathlib import Path\n",
    "import pandas as pd\n",
    "import numpy as np\n",
    "from numpy.random import random\n",
    "from src.betting_bot import BettingBot\n",
    "import src.betting_strategies as bstr"
   ]
  },
  {
   "cell_type": "code",
   "execution_count": 2,
   "metadata": {},
   "outputs": [],
   "source": [
    "odds_path = Path(\"../data/odds\")\n",
    "bot = BettingBot(odds_path, bet_size=10)"
   ]
  },
  {
   "cell_type": "code",
   "execution_count": 3,
   "metadata": {
    "tags": []
   },
   "outputs": [
    {
     "output_type": "stream",
     "name": "stdout",
     "text": [
      "4.50: -5.801876516472899    (-7.953057893421587, -3.4881859159978053)\n",
      "4.59: -5.800136300028187    (-7.931465042007945, -3.47129783482929)\n",
      "4.68: -6.1166118217932715    (-8.357203891493853, -3.824257102559489)\n",
      "4.77: -6.831547689208652    (-9.163379850021133, -4.266622930291106)\n",
      "4.86: -6.008949492973905    (-8.97050079154128, -3.020920543333917)\n",
      "4.95: -5.202006025607667    (-8.724995797435398, -1.832241286216659)\n",
      "5.04: -5.075476805851401    (-9.29363467803838, -0.49360200647215713)\n",
      "5.13: -4.389009782046076    (-8.525122902206236, 0.028796133573168348)\n",
      "5.22: -5.438284102689869    (-8.885616864254219, -1.7282920913755415)\n",
      "5.31: -6.604571742328941    (-11.727347342264856, -1.3680619814353037)\n",
      "5.39: -8.512876087520281    (-13.017377885027805, -4.11989934171279)\n",
      "5.48: -7.966801278529973    (-14.023495958187794, -2.113787745727233)\n",
      "5.57: -10.524789165179689    (-18.29842909592373, -3.5788569234410517)\n",
      "5.66: -12.376564538554153    (-19.501698229070662, -5.300392670406495)\n",
      "5.75: -11.826250481565387    (-20.269954474289836, -3.700906555508645)\n",
      "5.84: -12.986586169116839    (-26.229403286074046, -0.44522782663909766)\n",
      "5.93: -9.07852196713513    (-23.59885585855168, 4.13143905740845)\n",
      "6.02: -15.606479322991149    (-27.303003535177112, -3.434256760294179)\n",
      "6.11: -1.605537477427225    (-16.356586996708874, 13.68014940357418)\n",
      "6.20: -2.6978379196992024    (-20.004783677385777, 14.951210492314154)\n"
     ]
    }
   ],
   "source": [
    "for threshold in np.linspace(4.5, 6.2, 20):\n",
    "    print(f\"{threshold:.2f}: {bot.bootstrap_strategy(bstr.high_sum_draw, threshold=threshold)}\")"
   ]
  },
  {
   "cell_type": "code",
   "execution_count": 5,
   "metadata": {},
   "outputs": [
    {
     "output_type": "execute_result",
     "data": {
      "text/plain": [
       "-8.067529573981393    (-10.389290482152187, -5.683760505153575)"
      ]
     },
     "metadata": {},
     "execution_count": 5
    }
   ],
   "source": [
    "bot.bootstrap_strategy(bstr.away)"
   ]
  },
  {
   "cell_type": "code",
   "execution_count": 6,
   "metadata": {},
   "outputs": [
    {
     "output_type": "execute_result",
     "data": {
      "text/plain": [
       "                    date                 home                 away result  \\\n",
       "7    2016-10-13 19:30:00  Tampa Bay Lightning    Detroit Red Wings      1   \n",
       "8    2016-10-13 19:30:00     Florida Panthers    New Jersey Devils      X   \n",
       "17   2016-10-15 19:00:00  Tampa Bay Lightning    New Jersey Devils      1   \n",
       "19   2016-10-15 19:00:00       Minnesota Wild        Winnipeg Jets      1   \n",
       "20   2016-10-15 19:00:00  Washington Capitals   New York Islanders      1   \n",
       "...                  ...                  ...                  ...    ...   \n",
       "1224 2017-04-09 18:00:00      St. Louis Blues   Colorado Avalanche      1   \n",
       "1225 2017-04-09 19:00:00  Washington Capitals     Florida Panthers      2   \n",
       "1226 2017-04-09 19:00:00  Philadelphia Flyers  Carolina Hurricanes      X   \n",
       "1228 2017-04-09 20:30:00        Anaheim Ducks    Los Angeles Kings      X   \n",
       "1229 2017-04-09 21:00:00      Edmonton Oilers    Vancouver Canucks      1   \n",
       "\n",
       "         1     X     2 bet    win    revenue  deposit  \n",
       "7     1.91  4.01  3.36   X  False   0.000000       10  \n",
       "8     2.04  3.82  3.17   X   True  38.199999       10  \n",
       "17    1.83  4.03  3.61   X  False   0.000000       10  \n",
       "19    1.98  3.97  3.22   X  False   0.000000       10  \n",
       "20    1.81  4.10  3.63   X  False   0.000000       10  \n",
       "...    ...   ...   ...  ..    ...        ...      ...  \n",
       "1224  1.69  4.35  4.09   X  False   0.000000       10  \n",
       "1225  1.79  4.17  3.77   X  False   0.000000       10  \n",
       "1226  1.96  4.13  3.19   X   True  41.300001       10  \n",
       "1228  1.94  4.10  3.27   X   True  40.999999       10  \n",
       "1229  1.55  4.53  4.96   X  False   0.000000       10  \n",
       "\n",
       "[509 rows x 11 columns]"
      ],
      "text/html": "<div>\n<style scoped>\n    .dataframe tbody tr th:only-of-type {\n        vertical-align: middle;\n    }\n\n    .dataframe tbody tr th {\n        vertical-align: top;\n    }\n\n    .dataframe thead th {\n        text-align: right;\n    }\n</style>\n<table border=\"1\" class=\"dataframe\">\n  <thead>\n    <tr style=\"text-align: right;\">\n      <th></th>\n      <th>date</th>\n      <th>home</th>\n      <th>away</th>\n      <th>result</th>\n      <th>1</th>\n      <th>X</th>\n      <th>2</th>\n      <th>bet</th>\n      <th>win</th>\n      <th>revenue</th>\n      <th>deposit</th>\n    </tr>\n  </thead>\n  <tbody>\n    <tr>\n      <th>7</th>\n      <td>2016-10-13 19:30:00</td>\n      <td>Tampa Bay Lightning</td>\n      <td>Detroit Red Wings</td>\n      <td>1</td>\n      <td>1.91</td>\n      <td>4.01</td>\n      <td>3.36</td>\n      <td>X</td>\n      <td>False</td>\n      <td>0.000000</td>\n      <td>10</td>\n    </tr>\n    <tr>\n      <th>8</th>\n      <td>2016-10-13 19:30:00</td>\n      <td>Florida Panthers</td>\n      <td>New Jersey Devils</td>\n      <td>X</td>\n      <td>2.04</td>\n      <td>3.82</td>\n      <td>3.17</td>\n      <td>X</td>\n      <td>True</td>\n      <td>38.199999</td>\n      <td>10</td>\n    </tr>\n    <tr>\n      <th>17</th>\n      <td>2016-10-15 19:00:00</td>\n      <td>Tampa Bay Lightning</td>\n      <td>New Jersey Devils</td>\n      <td>1</td>\n      <td>1.83</td>\n      <td>4.03</td>\n      <td>3.61</td>\n      <td>X</td>\n      <td>False</td>\n      <td>0.000000</td>\n      <td>10</td>\n    </tr>\n    <tr>\n      <th>19</th>\n      <td>2016-10-15 19:00:00</td>\n      <td>Minnesota Wild</td>\n      <td>Winnipeg Jets</td>\n      <td>1</td>\n      <td>1.98</td>\n      <td>3.97</td>\n      <td>3.22</td>\n      <td>X</td>\n      <td>False</td>\n      <td>0.000000</td>\n      <td>10</td>\n    </tr>\n    <tr>\n      <th>20</th>\n      <td>2016-10-15 19:00:00</td>\n      <td>Washington Capitals</td>\n      <td>New York Islanders</td>\n      <td>1</td>\n      <td>1.81</td>\n      <td>4.10</td>\n      <td>3.63</td>\n      <td>X</td>\n      <td>False</td>\n      <td>0.000000</td>\n      <td>10</td>\n    </tr>\n    <tr>\n      <th>...</th>\n      <td>...</td>\n      <td>...</td>\n      <td>...</td>\n      <td>...</td>\n      <td>...</td>\n      <td>...</td>\n      <td>...</td>\n      <td>...</td>\n      <td>...</td>\n      <td>...</td>\n      <td>...</td>\n    </tr>\n    <tr>\n      <th>1224</th>\n      <td>2017-04-09 18:00:00</td>\n      <td>St. Louis Blues</td>\n      <td>Colorado Avalanche</td>\n      <td>1</td>\n      <td>1.69</td>\n      <td>4.35</td>\n      <td>4.09</td>\n      <td>X</td>\n      <td>False</td>\n      <td>0.000000</td>\n      <td>10</td>\n    </tr>\n    <tr>\n      <th>1225</th>\n      <td>2017-04-09 19:00:00</td>\n      <td>Washington Capitals</td>\n      <td>Florida Panthers</td>\n      <td>2</td>\n      <td>1.79</td>\n      <td>4.17</td>\n      <td>3.77</td>\n      <td>X</td>\n      <td>False</td>\n      <td>0.000000</td>\n      <td>10</td>\n    </tr>\n    <tr>\n      <th>1226</th>\n      <td>2017-04-09 19:00:00</td>\n      <td>Philadelphia Flyers</td>\n      <td>Carolina Hurricanes</td>\n      <td>X</td>\n      <td>1.96</td>\n      <td>4.13</td>\n      <td>3.19</td>\n      <td>X</td>\n      <td>True</td>\n      <td>41.300001</td>\n      <td>10</td>\n    </tr>\n    <tr>\n      <th>1228</th>\n      <td>2017-04-09 20:30:00</td>\n      <td>Anaheim Ducks</td>\n      <td>Los Angeles Kings</td>\n      <td>X</td>\n      <td>1.94</td>\n      <td>4.10</td>\n      <td>3.27</td>\n      <td>X</td>\n      <td>True</td>\n      <td>40.999999</td>\n      <td>10</td>\n    </tr>\n    <tr>\n      <th>1229</th>\n      <td>2017-04-09 21:00:00</td>\n      <td>Edmonton Oilers</td>\n      <td>Vancouver Canucks</td>\n      <td>1</td>\n      <td>1.55</td>\n      <td>4.53</td>\n      <td>4.96</td>\n      <td>X</td>\n      <td>False</td>\n      <td>0.000000</td>\n      <td>10</td>\n    </tr>\n  </tbody>\n</table>\n<p>509 rows × 11 columns</p>\n</div>"
     },
     "metadata": {},
     "execution_count": 6
    }
   ],
   "source": [
    "df = bot._bet_season(2016, bstr.high_sum_draw, threshold=5.13)\n",
    "df[df['bet'].notna()]"
   ]
  },
  {
   "cell_type": "code",
   "execution_count": 5,
   "metadata": {},
   "outputs": [
    {
     "output_type": "execute_result",
     "data": {
      "text/plain": [
       "          revenue  deposit      profit  profit_rate\n",
       "2005  5318.999995     5400  -81.000005    -1.500000\n",
       "2006  4531.299996     4930 -398.700004    -8.087221\n",
       "2007  3788.100008     4570 -781.899992   -17.109409\n",
       "2008  4908.000002     5340 -431.999998    -8.089888\n",
       "2009  4124.299997     4600 -475.700003   -10.341304\n",
       "2010  4195.100000     4540 -344.900000    -7.596916\n",
       "2011  4390.200002     5040 -649.799998   -12.892857\n",
       "2012  3015.899987     3070  -54.100013    -1.762215\n",
       "2013  5355.799993     5760 -404.200007    -7.017361\n",
       "2014  5872.899977     6440 -567.100023    -8.805901\n",
       "2015  5306.999978     5370  -63.000022    -1.173185\n",
       "2016  5340.899992     5310   30.899992     0.581921\n",
       "2017  4766.399990     5140 -373.600010    -7.268483\n",
       "2018  5954.200009     6350 -395.799991    -6.233071"
      ],
      "text/html": "<div>\n<style scoped>\n    .dataframe tbody tr th:only-of-type {\n        vertical-align: middle;\n    }\n\n    .dataframe tbody tr th {\n        vertical-align: top;\n    }\n\n    .dataframe thead th {\n        text-align: right;\n    }\n</style>\n<table border=\"1\" class=\"dataframe\">\n  <thead>\n    <tr style=\"text-align: right;\">\n      <th></th>\n      <th>revenue</th>\n      <th>deposit</th>\n      <th>profit</th>\n      <th>profit_rate</th>\n    </tr>\n  </thead>\n  <tbody>\n    <tr>\n      <th>2005</th>\n      <td>5318.999995</td>\n      <td>5400</td>\n      <td>-81.000005</td>\n      <td>-1.500000</td>\n    </tr>\n    <tr>\n      <th>2006</th>\n      <td>4531.299996</td>\n      <td>4930</td>\n      <td>-398.700004</td>\n      <td>-8.087221</td>\n    </tr>\n    <tr>\n      <th>2007</th>\n      <td>3788.100008</td>\n      <td>4570</td>\n      <td>-781.899992</td>\n      <td>-17.109409</td>\n    </tr>\n    <tr>\n      <th>2008</th>\n      <td>4908.000002</td>\n      <td>5340</td>\n      <td>-431.999998</td>\n      <td>-8.089888</td>\n    </tr>\n    <tr>\n      <th>2009</th>\n      <td>4124.299997</td>\n      <td>4600</td>\n      <td>-475.700003</td>\n      <td>-10.341304</td>\n    </tr>\n    <tr>\n      <th>2010</th>\n      <td>4195.100000</td>\n      <td>4540</td>\n      <td>-344.900000</td>\n      <td>-7.596916</td>\n    </tr>\n    <tr>\n      <th>2011</th>\n      <td>4390.200002</td>\n      <td>5040</td>\n      <td>-649.799998</td>\n      <td>-12.892857</td>\n    </tr>\n    <tr>\n      <th>2012</th>\n      <td>3015.899987</td>\n      <td>3070</td>\n      <td>-54.100013</td>\n      <td>-1.762215</td>\n    </tr>\n    <tr>\n      <th>2013</th>\n      <td>5355.799993</td>\n      <td>5760</td>\n      <td>-404.200007</td>\n      <td>-7.017361</td>\n    </tr>\n    <tr>\n      <th>2014</th>\n      <td>5872.899977</td>\n      <td>6440</td>\n      <td>-567.100023</td>\n      <td>-8.805901</td>\n    </tr>\n    <tr>\n      <th>2015</th>\n      <td>5306.999978</td>\n      <td>5370</td>\n      <td>-63.000022</td>\n      <td>-1.173185</td>\n    </tr>\n    <tr>\n      <th>2016</th>\n      <td>5340.899992</td>\n      <td>5310</td>\n      <td>30.899992</td>\n      <td>0.581921</td>\n    </tr>\n    <tr>\n      <th>2017</th>\n      <td>4766.399990</td>\n      <td>5140</td>\n      <td>-373.600010</td>\n      <td>-7.268483</td>\n    </tr>\n    <tr>\n      <th>2018</th>\n      <td>5954.200009</td>\n      <td>6350</td>\n      <td>-395.799991</td>\n      <td>-6.233071</td>\n    </tr>\n  </tbody>\n</table>\n</div>"
     },
     "metadata": {},
     "execution_count": 5
    }
   ],
   "source": [
    "bot.bet_strategy(bstr.diff_small_fav)"
   ]
  },
  {
   "cell_type": "code",
   "execution_count": 7,
   "metadata": {},
   "outputs": [
    {
     "output_type": "stream",
     "name": "stdout",
     "text": [
      "Bets on underdog when the diff (odd_under - odd_fav) is lesser than threshold.\n"
     ]
    },
    {
     "output_type": "execute_result",
     "data": {
      "text/plain": [
       "-6.949706480276227    (-9.36459676378912, -4.516591298775531)"
      ]
     },
     "metadata": {},
     "execution_count": 7
    }
   ],
   "source": [
    "print(bstr.diff_small_fav.__doc__)\n",
    "bot.bootstrap_strategy(bstr.diff_small_fav)"
   ]
  },
  {
   "cell_type": "code",
   "execution_count": 21,
   "metadata": {},
   "outputs": [
    {
     "output_type": "execute_result",
     "data": {
      "text/plain": [
       "-6.467747047890877    (-8.822973618696942, -4.007422681344218)"
      ]
     },
     "metadata": {},
     "execution_count": 21
    }
   ],
   "source": [
    "bot.bootstrap_strategy(bstr.close_favorite)"
   ]
  },
  {
   "cell_type": "code",
   "execution_count": 12,
   "metadata": {},
   "outputs": [
    {
     "output_type": "stream",
     "name": "stdout",
     "text": [
      "favorite: Always bets on favorite.\nunderdog: Always bets on underdog.\ndraws: Always bets on draw.\nhome: Always bets on home team.\naway: Always bets on away team.\nbig_favorite: Bets on favorite if the odd is lower than 2.0.\nclose_favorite: Bets on favorite if the odd is 2.0 or higher.\ndiff_small_underdog: Bets on underdog when the diff (odd_under - odd_fav) is lesser than threshold.\ndiff_small_fav: Bets on underdog when the diff (odd_under - odd_fav) is lesser than threshold.\n"
     ]
    }
   ],
   "source": [
    "for name, val in bstr.__dict__.items():\n",
    "    if callable(val):\n",
    "        print(f\"{name}: {val.__doc__}\")"
   ]
  },
  {
   "cell_type": "code",
   "execution_count": 9,
   "metadata": {},
   "outputs": [
    {
     "output_type": "execute_result",
     "data": {
      "text/plain": [
       "                    date                 home                away result  \\\n",
       "0    2006-10-04 17:55:00  Toronto Maple Leafs     Ottawa Senators      2   \n",
       "1    2006-10-04 17:55:00   Colorado Avalanche        Dallas Stars      X   \n",
       "2    2006-10-04 17:55:00  Carolina Hurricanes      Buffalo Sabres      X   \n",
       "3    2006-10-05 17:55:00      Arizona Coyotes  New York Islanders      1   \n",
       "4    2006-10-05 17:55:00    Detroit Red Wings   Vancouver Canucks      2   \n",
       "...                  ...                  ...                 ...    ...   \n",
       "1208 2007-04-08 13:00:00  Philadelphia Flyers      Buffalo Sabres      1   \n",
       "1209 2007-04-08 13:00:00         Dallas Stars  Chicago Blackhawks      1   \n",
       "1210 2007-04-08 15:30:00    New Jersey Devils  New York Islanders      X   \n",
       "1211 2007-04-08 17:00:00      Arizona Coyotes   Vancouver Canucks      1   \n",
       "1212 2007-04-08 17:55:00   Colorado Avalanche      Calgary Flames      1   \n",
       "\n",
       "         1     X     2  \n",
       "0     2.48  4.25  2.28  \n",
       "1     2.25  4.18  2.45  \n",
       "2     2.21  4.30  2.43  \n",
       "3     1.96  4.30  2.85  \n",
       "4     2.38  4.33  2.70  \n",
       "...    ...   ...   ...  \n",
       "1208  3.17  4.16  1.83  \n",
       "1209  1.52  4.54  4.46  \n",
       "1210  2.54  4.17  2.15  \n",
       "1211  2.33  4.10  2.28  \n",
       "1212  1.88  4.21  2.96  \n",
       "\n",
       "[1213 rows x 7 columns]"
      ],
      "text/html": "<div>\n<style scoped>\n    .dataframe tbody tr th:only-of-type {\n        vertical-align: middle;\n    }\n\n    .dataframe tbody tr th {\n        vertical-align: top;\n    }\n\n    .dataframe thead th {\n        text-align: right;\n    }\n</style>\n<table border=\"1\" class=\"dataframe\">\n  <thead>\n    <tr style=\"text-align: right;\">\n      <th></th>\n      <th>date</th>\n      <th>home</th>\n      <th>away</th>\n      <th>result</th>\n      <th>1</th>\n      <th>X</th>\n      <th>2</th>\n    </tr>\n  </thead>\n  <tbody>\n    <tr>\n      <th>0</th>\n      <td>2006-10-04 17:55:00</td>\n      <td>Toronto Maple Leafs</td>\n      <td>Ottawa Senators</td>\n      <td>2</td>\n      <td>2.48</td>\n      <td>4.25</td>\n      <td>2.28</td>\n    </tr>\n    <tr>\n      <th>1</th>\n      <td>2006-10-04 17:55:00</td>\n      <td>Colorado Avalanche</td>\n      <td>Dallas Stars</td>\n      <td>X</td>\n      <td>2.25</td>\n      <td>4.18</td>\n      <td>2.45</td>\n    </tr>\n    <tr>\n      <th>2</th>\n      <td>2006-10-04 17:55:00</td>\n      <td>Carolina Hurricanes</td>\n      <td>Buffalo Sabres</td>\n      <td>X</td>\n      <td>2.21</td>\n      <td>4.30</td>\n      <td>2.43</td>\n    </tr>\n    <tr>\n      <th>3</th>\n      <td>2006-10-05 17:55:00</td>\n      <td>Arizona Coyotes</td>\n      <td>New York Islanders</td>\n      <td>1</td>\n      <td>1.96</td>\n      <td>4.30</td>\n      <td>2.85</td>\n    </tr>\n    <tr>\n      <th>4</th>\n      <td>2006-10-05 17:55:00</td>\n      <td>Detroit Red Wings</td>\n      <td>Vancouver Canucks</td>\n      <td>2</td>\n      <td>2.38</td>\n      <td>4.33</td>\n      <td>2.70</td>\n    </tr>\n    <tr>\n      <th>...</th>\n      <td>...</td>\n      <td>...</td>\n      <td>...</td>\n      <td>...</td>\n      <td>...</td>\n      <td>...</td>\n      <td>...</td>\n    </tr>\n    <tr>\n      <th>1208</th>\n      <td>2007-04-08 13:00:00</td>\n      <td>Philadelphia Flyers</td>\n      <td>Buffalo Sabres</td>\n      <td>1</td>\n      <td>3.17</td>\n      <td>4.16</td>\n      <td>1.83</td>\n    </tr>\n    <tr>\n      <th>1209</th>\n      <td>2007-04-08 13:00:00</td>\n      <td>Dallas Stars</td>\n      <td>Chicago Blackhawks</td>\n      <td>1</td>\n      <td>1.52</td>\n      <td>4.54</td>\n      <td>4.46</td>\n    </tr>\n    <tr>\n      <th>1210</th>\n      <td>2007-04-08 15:30:00</td>\n      <td>New Jersey Devils</td>\n      <td>New York Islanders</td>\n      <td>X</td>\n      <td>2.54</td>\n      <td>4.17</td>\n      <td>2.15</td>\n    </tr>\n    <tr>\n      <th>1211</th>\n      <td>2007-04-08 17:00:00</td>\n      <td>Arizona Coyotes</td>\n      <td>Vancouver Canucks</td>\n      <td>1</td>\n      <td>2.33</td>\n      <td>4.10</td>\n      <td>2.28</td>\n    </tr>\n    <tr>\n      <th>1212</th>\n      <td>2007-04-08 17:55:00</td>\n      <td>Colorado Avalanche</td>\n      <td>Calgary Flames</td>\n      <td>1</td>\n      <td>1.88</td>\n      <td>4.21</td>\n      <td>2.96</td>\n    </tr>\n  </tbody>\n</table>\n<p>1213 rows × 7 columns</p>\n</div>"
     },
     "metadata": {},
     "execution_count": 9
    }
   ],
   "source": [
    "df = pd.read_pickle(odds_path / \"2006-2007.pkl\")\n",
    "df"
   ]
  }
 ]
}