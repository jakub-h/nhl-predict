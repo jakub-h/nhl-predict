{
 "metadata": {
  "language_info": {
   "codemirror_mode": {
    "name": "ipython",
    "version": 3
   },
   "file_extension": ".py",
   "mimetype": "text/x-python",
   "name": "python",
   "nbconvert_exporter": "python",
   "pygments_lexer": "ipython3",
   "version": "3.9.4-final"
  },
  "orig_nbformat": 2,
  "kernelspec": {
   "name": "python394jvsc74a57bd00c9acb80114d75111e08c987f5bf86b38069c9b8447ed2432288d99bf01e48a5",
   "display_name": "Python 3.9.4 64-bit ('nhl-predict': venv)",
   "language": "python"
  }
 },
 "nbformat": 4,
 "nbformat_minor": 2,
 "cells": [
  {
   "source": [
    "# Gridsearch on parameters of naive strategies"
   ],
   "cell_type": "markdown",
   "metadata": {}
  },
  {
   "cell_type": "code",
   "execution_count": 1,
   "metadata": {},
   "outputs": [],
   "source": [
    "from pathlib import Path\n",
    "import pandas as pd\n",
    "import numpy as np\n",
    "from src.betting_bot import BettingBot\n",
    "import src.betting_strategies as bstr"
   ]
  },
  {
   "cell_type": "code",
   "execution_count": 2,
   "metadata": {},
   "outputs": [],
   "source": [
    "odds_path = Path(\"../data/odds\")\n",
    "bot = BettingBot(odds_path, bet_size=10)"
   ]
  },
  {
   "source": [
    "## Favorite"
   ],
   "cell_type": "markdown",
   "metadata": {}
  },
  {
   "cell_type": "code",
   "execution_count": 3,
   "metadata": {},
   "outputs": [
    {
     "output_type": "execute_result",
     "data": {
      "text/plain": [
       "          revenue  deposit      profit  profit_rate\n",
       "2005   859.299998      920  -60.700002    -6.597826\n",
       "2006   869.400005     1180 -310.599995   -26.322033\n",
       "2007   706.500001      580  126.500001    21.810345\n",
       "2008  1169.000006     1090   79.000006     7.247707\n",
       "2009   436.199999      430    6.199999     1.441860\n",
       "2010   331.500006      480 -148.499994   -30.937499\n",
       "2011   698.600006      700   -1.399994    -0.199999\n",
       "2012   429.500003      380   49.500003    13.026317\n",
       "2013   815.299993     1030 -214.700007   -20.844661\n",
       "2014  1404.199996     1470  -65.800004    -4.476191\n",
       "2015   885.399990      900  -14.600010    -1.622223\n",
       "2016   688.699999      880 -191.300001   -21.738636\n",
       "2017   945.900011      840  105.900011    12.607144\n",
       "2018  1537.399988     1440   97.399988     6.763888"
      ],
      "text/html": "<div>\n<style scoped>\n    .dataframe tbody tr th:only-of-type {\n        vertical-align: middle;\n    }\n\n    .dataframe tbody tr th {\n        vertical-align: top;\n    }\n\n    .dataframe thead th {\n        text-align: right;\n    }\n</style>\n<table border=\"1\" class=\"dataframe\">\n  <thead>\n    <tr style=\"text-align: right;\">\n      <th></th>\n      <th>revenue</th>\n      <th>deposit</th>\n      <th>profit</th>\n      <th>profit_rate</th>\n    </tr>\n  </thead>\n  <tbody>\n    <tr>\n      <th>2005</th>\n      <td>859.299998</td>\n      <td>920</td>\n      <td>-60.700002</td>\n      <td>-6.597826</td>\n    </tr>\n    <tr>\n      <th>2006</th>\n      <td>869.400005</td>\n      <td>1180</td>\n      <td>-310.599995</td>\n      <td>-26.322033</td>\n    </tr>\n    <tr>\n      <th>2007</th>\n      <td>706.500001</td>\n      <td>580</td>\n      <td>126.500001</td>\n      <td>21.810345</td>\n    </tr>\n    <tr>\n      <th>2008</th>\n      <td>1169.000006</td>\n      <td>1090</td>\n      <td>79.000006</td>\n      <td>7.247707</td>\n    </tr>\n    <tr>\n      <th>2009</th>\n      <td>436.199999</td>\n      <td>430</td>\n      <td>6.199999</td>\n      <td>1.441860</td>\n    </tr>\n    <tr>\n      <th>2010</th>\n      <td>331.500006</td>\n      <td>480</td>\n      <td>-148.499994</td>\n      <td>-30.937499</td>\n    </tr>\n    <tr>\n      <th>2011</th>\n      <td>698.600006</td>\n      <td>700</td>\n      <td>-1.399994</td>\n      <td>-0.199999</td>\n    </tr>\n    <tr>\n      <th>2012</th>\n      <td>429.500003</td>\n      <td>380</td>\n      <td>49.500003</td>\n      <td>13.026317</td>\n    </tr>\n    <tr>\n      <th>2013</th>\n      <td>815.299993</td>\n      <td>1030</td>\n      <td>-214.700007</td>\n      <td>-20.844661</td>\n    </tr>\n    <tr>\n      <th>2014</th>\n      <td>1404.199996</td>\n      <td>1470</td>\n      <td>-65.800004</td>\n      <td>-4.476191</td>\n    </tr>\n    <tr>\n      <th>2015</th>\n      <td>885.399990</td>\n      <td>900</td>\n      <td>-14.600010</td>\n      <td>-1.622223</td>\n    </tr>\n    <tr>\n      <th>2016</th>\n      <td>688.699999</td>\n      <td>880</td>\n      <td>-191.300001</td>\n      <td>-21.738636</td>\n    </tr>\n    <tr>\n      <th>2017</th>\n      <td>945.900011</td>\n      <td>840</td>\n      <td>105.900011</td>\n      <td>12.607144</td>\n    </tr>\n    <tr>\n      <th>2018</th>\n      <td>1537.399988</td>\n      <td>1440</td>\n      <td>97.399988</td>\n      <td>6.763888</td>\n    </tr>\n  </tbody>\n</table>\n</div>"
     },
     "metadata": {},
     "execution_count": 3
    }
   ],
   "source": [
    "bot.bet_strategy(bstr.underdog, odd_range=(4, 5.5))"
   ]
  },
  {
   "cell_type": "code",
   "execution_count": 8,
   "metadata": {
    "tags": []
   },
   "outputs": [
    {
     "output_type": "stream",
     "name": "stdout",
     "text": [
      "(2.00, 3.00): -8.499932196781439    (-11.245813218571595, -5.6236752127122145)\n",
      "(2.00, 4.25): -9.695838125948802    (-11.662336419712773, -7.519344821477574)\n",
      "(2.00, 5.50): -9.151017167109263    (-11.130233763174667, -6.977247614991905)\n",
      "(2.00, 6.75): -9.277508989629222    (-11.214342359844393, -7.186656143795256)\n",
      "(2.00, 8.00): -9.320417862569366    (-11.228346569125513, -7.198769150280537)\n",
      "(2.50, 3.00): -9.420117053462949    (-12.713776619810009, -5.827920055500192)\n",
      "(2.50, 4.25): -10.229996156628314    (-12.549729855592549, -7.6769953219285885)\n",
      "(2.50, 5.50): -9.588583922842023    (-11.81942754401814, -7.076126735450053)\n",
      "(2.50, 6.75): -9.71203629854629    (-11.857370506042102, -7.426695991745126)\n",
      "(2.50, 8.00): -9.756491378943135    (-11.949465792213402, -7.399423667756498)\n",
      "(3.00, 4.25): -11.226225085725869    (-14.224974106433807, -7.962545352606282)\n",
      "(3.00, 5.50): -9.868984940882228    (-12.914004378776813, -6.895249837134678)\n",
      "(3.00, 6.75): -10.096905536386211    (-13.010733343146297, -7.168960463443817)\n",
      "(3.00, 8.00): -10.176267067257161    (-13.190238264234253, -7.276476534518219)\n",
      "(3.50, 4.25): -12.70555295288313    (-18.714997473605347, -6.454171375781495)\n",
      "(3.50, 5.50): -8.975156326427783    (-13.962888705610254, -4.080133129378956)\n",
      "(3.50, 6.75): -9.448799871134119    (-14.417620069753044, -4.184434645412383)\n",
      "(3.50, 8.00): -9.592875699177494    (-14.547747164788316, -4.480409902102675)\n",
      "(4.00, 4.25): -13.597471208342569    (-25.794471667583053, -1.2276361242262688)\n",
      "(4.00, 5.50): -3.5601291582912773    (-11.34528251760413, 4.75778292447495)\n",
      "(4.00, 6.75): -5.114317388937086    (-13.046060338090943, 3.150510908057413)\n",
      "(4.00, 8.00): -5.428756044341106    (-13.300330850533209, 2.501062628871635)\n"
     ]
    }
   ],
   "source": [
    "for low in np.linspace(2, 4, 5):\n",
    "    for high in np.linspace(3, 8, 5):\n",
    "        if high > low:\n",
    "            res = bot.bootstrap_strategy(bstr.underdog,\n",
    "                                         odd_range=(low, high))\n",
    "            print(f\"({low:.2f}, {high:.2f}): {res}\")"
   ]
  },
  {
   "cell_type": "code",
   "execution_count": null,
   "metadata": {},
   "outputs": [],
   "source": []
  }
 ]
}