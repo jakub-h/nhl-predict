{
 "metadata": {
  "language_info": {
   "codemirror_mode": {
    "name": "ipython",
    "version": 3
   },
   "file_extension": ".py",
   "mimetype": "text/x-python",
   "name": "python",
   "nbconvert_exporter": "python",
   "pygments_lexer": "ipython3",
   "version": "3.9.5"
  },
  "orig_nbformat": 4,
  "kernelspec": {
   "name": "python394jvsc74a57bd00c9acb80114d75111e08c987f5bf86b38069c9b8447ed2432288d99bf01e48a5",
   "display_name": "Python 3.9.4 64-bit ('nhl-predict': venv)",
   "language": "python"
  }
 },
 "nbformat": 4,
 "nbformat_minor": 2,
 "cells": [
  {
   "cell_type": "code",
   "execution_count": 1,
   "metadata": {},
   "outputs": [],
   "source": [
    "from src.dataset_manager import DatasetManager"
   ]
  },
  {
   "cell_type": "code",
   "execution_count": 2,
   "metadata": {
    "tags": []
   },
   "outputs": [
    {
     "output_type": "stream",
     "name": "stdout",
     "text": [
      "<class 'pandas.core.frame.DataFrame'>\nInt64Index: 102491 entries, 0 to 102490\nData columns (total 15 columns):\n #   Column                Non-Null Count   Dtype  \n---  ------                --------------   -----  \n 0   game_id               102491 non-null  int64  \n 1   shot_type             73953 non-null   object \n 2   distance              102491 non-null  float64\n 3   angle                 102491 non-null  float64\n 4   distance_change       102491 non-null  float64\n 5   angle_change          102491 non-null  float64\n 6   time_change           102491 non-null  int64  \n 7   prev_event_type       102491 non-null  object \n 8   prev_event_same_team  102491 non-null  int64  \n 9   is_home               102491 non-null  int64  \n 10  goal_diff             102491 non-null  int64  \n 11  strength_active       102491 non-null  int64  \n 12  strength_opp          102491 non-null  int64  \n 13  empty_net_opp         102491 non-null  int64  \n 14  outcome               102491 non-null  int64  \ndtypes: float64(4), int64(9), object(2)\nmemory usage: 12.5+ MB\nNone\nCPU times: user 1.49 s, sys: 222 ms, total: 1.71 s\nWall time: 1.74 s\n"
     ]
    }
   ],
   "source": [
    "%%time\n",
    "\n",
    "dm = DatasetManager(\"../data\")\n",
    "dm.calculate_in_game_stats(2010)"
   ]
  },
  {
   "cell_type": "code",
   "execution_count": null,
   "metadata": {},
   "outputs": [],
   "source": []
  }
 ]
}