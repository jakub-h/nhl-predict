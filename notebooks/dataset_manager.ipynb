{
 "metadata": {
  "language_info": {
   "codemirror_mode": {
    "name": "ipython",
    "version": 3
   },
   "file_extension": ".py",
   "mimetype": "text/x-python",
   "name": "python",
   "nbconvert_exporter": "python",
   "pygments_lexer": "ipython3",
   "version": "3.9.5"
  },
  "orig_nbformat": 4,
  "kernelspec": {
   "name": "python394jvsc74a57bd00c9acb80114d75111e08c987f5bf86b38069c9b8447ed2432288d99bf01e48a5",
   "display_name": "Python 3.9.4 64-bit ('nhl-predict': venv)",
   "language": "python"
  }
 },
 "nbformat": 4,
 "nbformat_minor": 2,
 "cells": [
  {
   "cell_type": "code",
   "execution_count": 1,
   "metadata": {},
   "outputs": [],
   "source": [
    "from src.dataset_manager import DatasetManager"
   ]
  },
  {
   "cell_type": "code",
   "execution_count": 2,
   "metadata": {
    "tags": []
   },
   "outputs": [
    {
     "name": "stdout",
     "output_type": "stream",
     "text": [
      "CPU times: user 17 s, sys: 703 ms, total: 17.7 s\n",
      "Wall time: 17.6 s\n"
     ]
    },
    {
     "data": {
      "text/plain": "      away_G_ALL  away_SOG_ALL  away_SMISS_ALL  away_HIT_ALL  away_TAKE_ALL  \\\n0              3            26              16            26              6   \n1              3            24              11            43             10   \n2              5            39              11            16              5   \n3              5            27              12            19              1   \n4              6            26               9            32              7   \n...          ...           ...             ...           ...            ...   \n1225           5            31              12            19              3   \n1226           2            28              17            18              4   \n1227           5            38              11            19              5   \n1228           4            28              13            27              3   \n1229           0            20              12            18             11   \n\n      away_GIVE_ALL  away_FOW_ALL  away_BLK_ALL  away_CORSI_ALL  away_xG_ALL  \\\n0                 9            30            15              54    15.134166   \n1                13            27            15              41    14.899538   \n2                 4            32            13              65    24.344775   \n3                 2            36            13              54    18.015502   \n4                 8            30            13              50    17.759431   \n...             ...           ...           ...             ...          ...   \n1225              3            30            10              60    19.525529   \n1226              5            22            28              63    16.684084   \n1227              5            33            14              63    25.063330   \n1228             12            26            15              57    18.344444   \n1229             14            29            18              45    10.199203   \n\n      ...  home_SOG_SH  home_SMISS_SH  home_HIT_SH  home_TAKE_SH  \\\n0     ...            0              0            1             0   \n1     ...            0              0            0             0   \n2     ...            0              0            0             2   \n3     ...            2              0            0             0   \n4     ...            0              0            0             0   \n...   ...          ...            ...          ...           ...   \n1225  ...            0              0            0             0   \n1226  ...            1              0            0             1   \n1227  ...            0              0            2             2   \n1228  ...            1              1            1             0   \n1229  ...            3              3            0             5   \n\n      home_GIVE_SH  home_FOW_SH  home_BLK_SH  home_CORSI_SH  home_xG_SH  \\\n0                0            1            0              1    0.000000   \n1                0            0            0              1    0.000000   \n2                0            5            2              1    0.000000   \n3                2            7            2              6    1.094596   \n4                0            0            0              3    0.000000   \n...            ...          ...          ...            ...         ...   \n1225             0            4            0              0    0.000000   \n1226             0            2            2              6    0.540647   \n1227             0            3            0              2    0.000000   \n1228             0            3            1              2    1.031035   \n1229             2            0            2              9    3.021303   \n\n      home_PPO  \n0            4  \n1            2  \n2            7  \n3            8  \n4            3  \n...        ...  \n1225         3  \n1226         4  \n1227         3  \n1228         0  \n1229         8  \n\n[1230 rows x 82 columns]",
      "text/html": "<div>\n<style scoped>\n    .dataframe tbody tr th:only-of-type {\n        vertical-align: middle;\n    }\n\n    .dataframe tbody tr th {\n        vertical-align: top;\n    }\n\n    .dataframe thead th {\n        text-align: right;\n    }\n</style>\n<table border=\"1\" class=\"dataframe\">\n  <thead>\n    <tr style=\"text-align: right;\">\n      <th></th>\n      <th>away_G_ALL</th>\n      <th>away_SOG_ALL</th>\n      <th>away_SMISS_ALL</th>\n      <th>away_HIT_ALL</th>\n      <th>away_TAKE_ALL</th>\n      <th>away_GIVE_ALL</th>\n      <th>away_FOW_ALL</th>\n      <th>away_BLK_ALL</th>\n      <th>away_CORSI_ALL</th>\n      <th>away_xG_ALL</th>\n      <th>...</th>\n      <th>home_SOG_SH</th>\n      <th>home_SMISS_SH</th>\n      <th>home_HIT_SH</th>\n      <th>home_TAKE_SH</th>\n      <th>home_GIVE_SH</th>\n      <th>home_FOW_SH</th>\n      <th>home_BLK_SH</th>\n      <th>home_CORSI_SH</th>\n      <th>home_xG_SH</th>\n      <th>home_PPO</th>\n    </tr>\n  </thead>\n  <tbody>\n    <tr>\n      <th>0</th>\n      <td>3</td>\n      <td>26</td>\n      <td>16</td>\n      <td>26</td>\n      <td>6</td>\n      <td>9</td>\n      <td>30</td>\n      <td>15</td>\n      <td>54</td>\n      <td>15.134166</td>\n      <td>...</td>\n      <td>0</td>\n      <td>0</td>\n      <td>1</td>\n      <td>0</td>\n      <td>0</td>\n      <td>1</td>\n      <td>0</td>\n      <td>1</td>\n      <td>0.000000</td>\n      <td>4</td>\n    </tr>\n    <tr>\n      <th>1</th>\n      <td>3</td>\n      <td>24</td>\n      <td>11</td>\n      <td>43</td>\n      <td>10</td>\n      <td>13</td>\n      <td>27</td>\n      <td>15</td>\n      <td>41</td>\n      <td>14.899538</td>\n      <td>...</td>\n      <td>0</td>\n      <td>0</td>\n      <td>0</td>\n      <td>0</td>\n      <td>0</td>\n      <td>0</td>\n      <td>0</td>\n      <td>1</td>\n      <td>0.000000</td>\n      <td>2</td>\n    </tr>\n    <tr>\n      <th>2</th>\n      <td>5</td>\n      <td>39</td>\n      <td>11</td>\n      <td>16</td>\n      <td>5</td>\n      <td>4</td>\n      <td>32</td>\n      <td>13</td>\n      <td>65</td>\n      <td>24.344775</td>\n      <td>...</td>\n      <td>0</td>\n      <td>0</td>\n      <td>0</td>\n      <td>2</td>\n      <td>0</td>\n      <td>5</td>\n      <td>2</td>\n      <td>1</td>\n      <td>0.000000</td>\n      <td>7</td>\n    </tr>\n    <tr>\n      <th>3</th>\n      <td>5</td>\n      <td>27</td>\n      <td>12</td>\n      <td>19</td>\n      <td>1</td>\n      <td>2</td>\n      <td>36</td>\n      <td>13</td>\n      <td>54</td>\n      <td>18.015502</td>\n      <td>...</td>\n      <td>2</td>\n      <td>0</td>\n      <td>0</td>\n      <td>0</td>\n      <td>2</td>\n      <td>7</td>\n      <td>2</td>\n      <td>6</td>\n      <td>1.094596</td>\n      <td>8</td>\n    </tr>\n    <tr>\n      <th>4</th>\n      <td>6</td>\n      <td>26</td>\n      <td>9</td>\n      <td>32</td>\n      <td>7</td>\n      <td>8</td>\n      <td>30</td>\n      <td>13</td>\n      <td>50</td>\n      <td>17.759431</td>\n      <td>...</td>\n      <td>0</td>\n      <td>0</td>\n      <td>0</td>\n      <td>0</td>\n      <td>0</td>\n      <td>0</td>\n      <td>0</td>\n      <td>3</td>\n      <td>0.000000</td>\n      <td>3</td>\n    </tr>\n    <tr>\n      <th>...</th>\n      <td>...</td>\n      <td>...</td>\n      <td>...</td>\n      <td>...</td>\n      <td>...</td>\n      <td>...</td>\n      <td>...</td>\n      <td>...</td>\n      <td>...</td>\n      <td>...</td>\n      <td>...</td>\n      <td>...</td>\n      <td>...</td>\n      <td>...</td>\n      <td>...</td>\n      <td>...</td>\n      <td>...</td>\n      <td>...</td>\n      <td>...</td>\n      <td>...</td>\n      <td>...</td>\n    </tr>\n    <tr>\n      <th>1225</th>\n      <td>5</td>\n      <td>31</td>\n      <td>12</td>\n      <td>19</td>\n      <td>3</td>\n      <td>3</td>\n      <td>30</td>\n      <td>10</td>\n      <td>60</td>\n      <td>19.525529</td>\n      <td>...</td>\n      <td>0</td>\n      <td>0</td>\n      <td>0</td>\n      <td>0</td>\n      <td>0</td>\n      <td>4</td>\n      <td>0</td>\n      <td>0</td>\n      <td>0.000000</td>\n      <td>3</td>\n    </tr>\n    <tr>\n      <th>1226</th>\n      <td>2</td>\n      <td>28</td>\n      <td>17</td>\n      <td>18</td>\n      <td>4</td>\n      <td>5</td>\n      <td>22</td>\n      <td>28</td>\n      <td>63</td>\n      <td>16.684084</td>\n      <td>...</td>\n      <td>1</td>\n      <td>0</td>\n      <td>0</td>\n      <td>1</td>\n      <td>0</td>\n      <td>2</td>\n      <td>2</td>\n      <td>6</td>\n      <td>0.540647</td>\n      <td>4</td>\n    </tr>\n    <tr>\n      <th>1227</th>\n      <td>5</td>\n      <td>38</td>\n      <td>11</td>\n      <td>19</td>\n      <td>5</td>\n      <td>5</td>\n      <td>33</td>\n      <td>14</td>\n      <td>63</td>\n      <td>25.063330</td>\n      <td>...</td>\n      <td>0</td>\n      <td>0</td>\n      <td>2</td>\n      <td>2</td>\n      <td>0</td>\n      <td>3</td>\n      <td>0</td>\n      <td>2</td>\n      <td>0.000000</td>\n      <td>3</td>\n    </tr>\n    <tr>\n      <th>1228</th>\n      <td>4</td>\n      <td>28</td>\n      <td>13</td>\n      <td>27</td>\n      <td>3</td>\n      <td>12</td>\n      <td>26</td>\n      <td>15</td>\n      <td>57</td>\n      <td>18.344444</td>\n      <td>...</td>\n      <td>1</td>\n      <td>1</td>\n      <td>1</td>\n      <td>0</td>\n      <td>0</td>\n      <td>3</td>\n      <td>1</td>\n      <td>2</td>\n      <td>1.031035</td>\n      <td>0</td>\n    </tr>\n    <tr>\n      <th>1229</th>\n      <td>0</td>\n      <td>20</td>\n      <td>12</td>\n      <td>18</td>\n      <td>11</td>\n      <td>14</td>\n      <td>29</td>\n      <td>18</td>\n      <td>45</td>\n      <td>10.199203</td>\n      <td>...</td>\n      <td>3</td>\n      <td>3</td>\n      <td>0</td>\n      <td>5</td>\n      <td>2</td>\n      <td>0</td>\n      <td>2</td>\n      <td>9</td>\n      <td>3.021303</td>\n      <td>8</td>\n    </tr>\n  </tbody>\n</table>\n<p>1230 rows × 82 columns</p>\n</div>"
     },
     "execution_count": 2,
     "metadata": {},
     "output_type": "execute_result"
    }
   ],
   "source": [
    "%%time\n",
    "\n",
    "dm = DatasetManager(\"../data\")\n",
    "df = dm.calculate_in_game_stats(2015)\n",
    "df"
   ]
  },
  {
   "cell_type": "code",
   "execution_count": 6,
   "metadata": {},
   "outputs": [
    {
     "data": {
      "text/plain": "      away_xG_ALL  away_xG_EV  away_xG_PP  home_xG_ALL  home_xG_EV  home_xG_PP\n0       15.134166   14.481625    0.000000    20.230824   17.715694    2.515129\n1       14.899538   14.899538    0.000000    18.319510   16.604046    1.715464\n2       24.344775   19.166529    5.178246    17.024657   15.282211    1.742446\n3       18.015502   10.484372    7.531131    10.785283    6.257092    3.433595\n4       17.759431   17.134478    0.000000    16.951016   13.339578    3.611438\n...           ...         ...         ...          ...         ...         ...\n1225    19.525529   17.866713    1.091123    11.085661   11.085661    0.000000\n1226    16.684084   11.881255    3.601667    13.166344   10.990099    1.635598\n1227    25.063330   17.820573    6.034965    20.362826   18.635777    1.727050\n1228    18.344444   15.378937    2.965506    18.673304   17.642269    0.000000\n1229    10.199203    7.561614    1.608654    20.179954   11.779421    5.379230\n\n[1230 rows x 6 columns]",
      "text/html": "<div>\n<style scoped>\n    .dataframe tbody tr th:only-of-type {\n        vertical-align: middle;\n    }\n\n    .dataframe tbody tr th {\n        vertical-align: top;\n    }\n\n    .dataframe thead th {\n        text-align: right;\n    }\n</style>\n<table border=\"1\" class=\"dataframe\">\n  <thead>\n    <tr style=\"text-align: right;\">\n      <th></th>\n      <th>away_xG_ALL</th>\n      <th>away_xG_EV</th>\n      <th>away_xG_PP</th>\n      <th>home_xG_ALL</th>\n      <th>home_xG_EV</th>\n      <th>home_xG_PP</th>\n    </tr>\n  </thead>\n  <tbody>\n    <tr>\n      <th>0</th>\n      <td>15.134166</td>\n      <td>14.481625</td>\n      <td>0.000000</td>\n      <td>20.230824</td>\n      <td>17.715694</td>\n      <td>2.515129</td>\n    </tr>\n    <tr>\n      <th>1</th>\n      <td>14.899538</td>\n      <td>14.899538</td>\n      <td>0.000000</td>\n      <td>18.319510</td>\n      <td>16.604046</td>\n      <td>1.715464</td>\n    </tr>\n    <tr>\n      <th>2</th>\n      <td>24.344775</td>\n      <td>19.166529</td>\n      <td>5.178246</td>\n      <td>17.024657</td>\n      <td>15.282211</td>\n      <td>1.742446</td>\n    </tr>\n    <tr>\n      <th>3</th>\n      <td>18.015502</td>\n      <td>10.484372</td>\n      <td>7.531131</td>\n      <td>10.785283</td>\n      <td>6.257092</td>\n      <td>3.433595</td>\n    </tr>\n    <tr>\n      <th>4</th>\n      <td>17.759431</td>\n      <td>17.134478</td>\n      <td>0.000000</td>\n      <td>16.951016</td>\n      <td>13.339578</td>\n      <td>3.611438</td>\n    </tr>\n    <tr>\n      <th>...</th>\n      <td>...</td>\n      <td>...</td>\n      <td>...</td>\n      <td>...</td>\n      <td>...</td>\n      <td>...</td>\n    </tr>\n    <tr>\n      <th>1225</th>\n      <td>19.525529</td>\n      <td>17.866713</td>\n      <td>1.091123</td>\n      <td>11.085661</td>\n      <td>11.085661</td>\n      <td>0.000000</td>\n    </tr>\n    <tr>\n      <th>1226</th>\n      <td>16.684084</td>\n      <td>11.881255</td>\n      <td>3.601667</td>\n      <td>13.166344</td>\n      <td>10.990099</td>\n      <td>1.635598</td>\n    </tr>\n    <tr>\n      <th>1227</th>\n      <td>25.063330</td>\n      <td>17.820573</td>\n      <td>6.034965</td>\n      <td>20.362826</td>\n      <td>18.635777</td>\n      <td>1.727050</td>\n    </tr>\n    <tr>\n      <th>1228</th>\n      <td>18.344444</td>\n      <td>15.378937</td>\n      <td>2.965506</td>\n      <td>18.673304</td>\n      <td>17.642269</td>\n      <td>0.000000</td>\n    </tr>\n    <tr>\n      <th>1229</th>\n      <td>10.199203</td>\n      <td>7.561614</td>\n      <td>1.608654</td>\n      <td>20.179954</td>\n      <td>11.779421</td>\n      <td>5.379230</td>\n    </tr>\n  </tbody>\n</table>\n<p>1230 rows × 6 columns</p>\n</div>"
     },
     "execution_count": 6,
     "metadata": {},
     "output_type": "execute_result"
    }
   ],
   "source": [
    "df[['away_xG_ALL', 'away_xG_EV', 'away_xG_PP', 'home_xG_ALL', 'home_xG_EV', 'home_xG_PP']]"
   ]
  },
  {
   "cell_type": "code",
   "execution_count": null,
   "outputs": [],
   "source": [],
   "metadata": {
    "collapsed": false,
    "pycharm": {
     "name": "#%%\n"
    }
   }
  }
 ]
}