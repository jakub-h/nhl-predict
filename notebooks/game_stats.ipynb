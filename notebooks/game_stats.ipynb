{
 "metadata": {
  "language_info": {
   "codemirror_mode": {
    "name": "ipython",
    "version": 3
   },
   "file_extension": ".py",
   "mimetype": "text/x-python",
   "name": "python",
   "nbconvert_exporter": "python",
   "pygments_lexer": "ipython3",
   "version": "3.9.5"
  },
  "orig_nbformat": 2,
  "kernelspec": {
   "name": "python394jvsc74a57bd00c9acb80114d75111e08c987f5bf86b38069c9b8447ed2432288d99bf01e48a5",
   "display_name": "Python 3.9.4 64-bit ('nhl-predict': venv)",
   "language": "python"
  }
 },
 "nbformat": 4,
 "nbformat_minor": 2,
 "cells": [
  {
   "cell_type": "code",
   "execution_count": 1,
   "metadata": {},
   "outputs": [],
   "source": [
    "import pandas as pd\n",
    "import requests\n",
    "import json\n",
    "import numpy as np\n",
    "import sys\n",
    "import pickle\n",
    "import multiprocessing as mp\n",
    "from datetime import datetime, timezone, timedelta\n",
    "from pathlib import Path\n",
    "from src.stats_scraper import StatsScraper"
   ]
  },
  {
   "cell_type": "code",
   "execution_count": 2,
   "metadata": {},
   "outputs": [],
   "source": [
    "ss = StatsScraper(\"../data/\")"
   ]
  },
  {
   "cell_type": "code",
   "execution_count": 3,
   "metadata": {},
   "outputs": [
    {
     "output_type": "stream",
     "name": "stdout",
     "text": [
      "## StatsExtractor: download SEASON 2015/2016 from NHL API\n",
      "... saved [72.15 s] to '../data/games_raw/2015-2016.pkl'\n"
     ]
    }
   ],
   "source": [
    "for season\n",
    "ss.download_season(2015, n_jobs=10)"
   ]
  },
  {
   "cell_type": "code",
   "execution_count": 3,
   "metadata": {
    "tags": []
   },
   "outputs": [],
   "source": [
    "df = ss.convert_season_to_csv(2015)"
   ]
  },
  {
   "cell_type": "code",
   "execution_count": 6,
   "metadata": {},
   "outputs": [
    {
     "output_type": "execute_result",
     "data": {
      "text/plain": [
       "         shot_type    distance     angle  distance_change  angle_change  \\\n",
       "7       Wrist Shot   37.483330  2.375060       -85.845499      0.482513   \n",
       "32       Deflected  162.003086  1.576969       -20.884857     -0.092408   \n",
       "83       Snap Shot   22.000000  1.570796       -29.662365      0.254368   \n",
       "95      Wrist Shot   37.215588  1.463106      -122.308705     -0.246041   \n",
       "100     Wrist Shot   22.135944  2.819842       -36.660315      0.523816   \n",
       "...            ...         ...       ...              ...           ...   \n",
       "102299  Wrist Shot    8.062258  1.446441         0.991190     -0.909753   \n",
       "102304   Slap Shot   26.925824  1.833791        12.608003      1.401383   \n",
       "102311  Wrist Shot   11.180340  1.107149       -18.551798     -1.296629   \n",
       "102339  Wrist Shot   20.000000  1.570796      -146.003012     -0.006024   \n",
       "102404  Wrist Shot  154.547727  1.655012        -4.976566     -0.054135   \n",
       "\n",
       "        time_change prev_event_type  prev_event_same_team  is_home  goal_diff  \\\n",
       "7                24        GIVEAWAY                     1        0          0   \n",
       "32                6         PENALTY                     0        1         -1   \n",
       "83                2            SHOT                     1        0          0   \n",
       "95                8         FACEOFF                     1        0          1   \n",
       "100              15             HIT                     1        0          0   \n",
       "...             ...             ...                   ...      ...        ...   \n",
       "102299            1            SHOT                     1        0         -3   \n",
       "102304           27        GIVEAWAY                     0        0         -2   \n",
       "102311           16         FACEOFF                     0        0         -1   \n",
       "102339            0            SHOT                     0        0          0   \n",
       "102404           56         FACEOFF                     0        1          0   \n",
       "\n",
       "        outcome  \n",
       "7             1  \n",
       "32            1  \n",
       "83            1  \n",
       "95            1  \n",
       "100           1  \n",
       "...         ...  \n",
       "102299        1  \n",
       "102304        1  \n",
       "102311        1  \n",
       "102339        1  \n",
       "102404        1  \n",
       "\n",
       "[6803 rows x 11 columns]"
      ],
      "text/html": "<div>\n<style scoped>\n    .dataframe tbody tr th:only-of-type {\n        vertical-align: middle;\n    }\n\n    .dataframe tbody tr th {\n        vertical-align: top;\n    }\n\n    .dataframe thead th {\n        text-align: right;\n    }\n</style>\n<table border=\"1\" class=\"dataframe\">\n  <thead>\n    <tr style=\"text-align: right;\">\n      <th></th>\n      <th>shot_type</th>\n      <th>distance</th>\n      <th>angle</th>\n      <th>distance_change</th>\n      <th>angle_change</th>\n      <th>time_change</th>\n      <th>prev_event_type</th>\n      <th>prev_event_same_team</th>\n      <th>is_home</th>\n      <th>goal_diff</th>\n      <th>outcome</th>\n    </tr>\n  </thead>\n  <tbody>\n    <tr>\n      <th>7</th>\n      <td>Wrist Shot</td>\n      <td>37.483330</td>\n      <td>2.375060</td>\n      <td>-85.845499</td>\n      <td>0.482513</td>\n      <td>24</td>\n      <td>GIVEAWAY</td>\n      <td>1</td>\n      <td>0</td>\n      <td>0</td>\n      <td>1</td>\n    </tr>\n    <tr>\n      <th>32</th>\n      <td>Deflected</td>\n      <td>162.003086</td>\n      <td>1.576969</td>\n      <td>-20.884857</td>\n      <td>-0.092408</td>\n      <td>6</td>\n      <td>PENALTY</td>\n      <td>0</td>\n      <td>1</td>\n      <td>-1</td>\n      <td>1</td>\n    </tr>\n    <tr>\n      <th>83</th>\n      <td>Snap Shot</td>\n      <td>22.000000</td>\n      <td>1.570796</td>\n      <td>-29.662365</td>\n      <td>0.254368</td>\n      <td>2</td>\n      <td>SHOT</td>\n      <td>1</td>\n      <td>0</td>\n      <td>0</td>\n      <td>1</td>\n    </tr>\n    <tr>\n      <th>95</th>\n      <td>Wrist Shot</td>\n      <td>37.215588</td>\n      <td>1.463106</td>\n      <td>-122.308705</td>\n      <td>-0.246041</td>\n      <td>8</td>\n      <td>FACEOFF</td>\n      <td>1</td>\n      <td>0</td>\n      <td>1</td>\n      <td>1</td>\n    </tr>\n    <tr>\n      <th>100</th>\n      <td>Wrist Shot</td>\n      <td>22.135944</td>\n      <td>2.819842</td>\n      <td>-36.660315</td>\n      <td>0.523816</td>\n      <td>15</td>\n      <td>HIT</td>\n      <td>1</td>\n      <td>0</td>\n      <td>0</td>\n      <td>1</td>\n    </tr>\n    <tr>\n      <th>...</th>\n      <td>...</td>\n      <td>...</td>\n      <td>...</td>\n      <td>...</td>\n      <td>...</td>\n      <td>...</td>\n      <td>...</td>\n      <td>...</td>\n      <td>...</td>\n      <td>...</td>\n      <td>...</td>\n    </tr>\n    <tr>\n      <th>102299</th>\n      <td>Wrist Shot</td>\n      <td>8.062258</td>\n      <td>1.446441</td>\n      <td>0.991190</td>\n      <td>-0.909753</td>\n      <td>1</td>\n      <td>SHOT</td>\n      <td>1</td>\n      <td>0</td>\n      <td>-3</td>\n      <td>1</td>\n    </tr>\n    <tr>\n      <th>102304</th>\n      <td>Slap Shot</td>\n      <td>26.925824</td>\n      <td>1.833791</td>\n      <td>12.608003</td>\n      <td>1.401383</td>\n      <td>27</td>\n      <td>GIVEAWAY</td>\n      <td>0</td>\n      <td>0</td>\n      <td>-2</td>\n      <td>1</td>\n    </tr>\n    <tr>\n      <th>102311</th>\n      <td>Wrist Shot</td>\n      <td>11.180340</td>\n      <td>1.107149</td>\n      <td>-18.551798</td>\n      <td>-1.296629</td>\n      <td>16</td>\n      <td>FACEOFF</td>\n      <td>0</td>\n      <td>0</td>\n      <td>-1</td>\n      <td>1</td>\n    </tr>\n    <tr>\n      <th>102339</th>\n      <td>Wrist Shot</td>\n      <td>20.000000</td>\n      <td>1.570796</td>\n      <td>-146.003012</td>\n      <td>-0.006024</td>\n      <td>0</td>\n      <td>SHOT</td>\n      <td>0</td>\n      <td>0</td>\n      <td>0</td>\n      <td>1</td>\n    </tr>\n    <tr>\n      <th>102404</th>\n      <td>Wrist Shot</td>\n      <td>154.547727</td>\n      <td>1.655012</td>\n      <td>-4.976566</td>\n      <td>-0.054135</td>\n      <td>56</td>\n      <td>FACEOFF</td>\n      <td>0</td>\n      <td>1</td>\n      <td>0</td>\n      <td>1</td>\n    </tr>\n  </tbody>\n</table>\n<p>6803 rows × 11 columns</p>\n</div>"
     },
     "metadata": {},
     "execution_count": 6
    }
   ],
   "source": [
    "df[df['outcome'] == 1]"
   ]
  },
  {
   "cell_type": "code",
   "execution_count": 4,
   "metadata": {},
   "outputs": [
    {
     "output_type": "stream",
     "name": "stdout",
     "text": [
      "<class 'pandas.core.frame.DataFrame'>\nRangeIndex: 102424 entries, 0 to 102423\nData columns (total 11 columns):\n #   Column                Non-Null Count   Dtype  \n---  ------                --------------   -----  \n 0   shot_type             73784 non-null   object \n 1   distance              102424 non-null  float64\n 2   angle                 102424 non-null  float64\n 3   distance_change       102424 non-null  float64\n 4   angle_change          102424 non-null  float64\n 5   time_change           102424 non-null  int64  \n 6   prev_event_type       102424 non-null  object \n 7   prev_event_same_team  102424 non-null  int64  \n 8   is_home               102424 non-null  int64  \n 9   goal_diff             102424 non-null  int64  \n 10  outcome               102424 non-null  int64  \ndtypes: float64(4), int64(5), object(2)\nmemory usage: 8.6+ MB\n"
     ]
    }
   ],
   "source": [
    "df.info()"
   ]
  },
  {
   "cell_type": "code",
   "execution_count": null,
   "metadata": {},
   "outputs": [],
   "source": []
  }
 ]
}