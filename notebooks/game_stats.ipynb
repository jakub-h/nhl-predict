{
 "metadata": {
  "language_info": {
   "codemirror_mode": {
    "name": "ipython",
    "version": 3
   },
   "file_extension": ".py",
   "mimetype": "text/x-python",
   "name": "python",
   "nbconvert_exporter": "python",
   "pygments_lexer": "ipython3",
   "version": "3.9.5"
  },
  "orig_nbformat": 2,
  "kernelspec": {
   "name": "python394jvsc74a57bd00c9acb80114d75111e08c987f5bf86b38069c9b8447ed2432288d99bf01e48a5",
   "display_name": "Python 3.9.4 64-bit ('nhl-predict': venv)",
   "language": "python"
  }
 },
 "nbformat": 4,
 "nbformat_minor": 2,
 "cells": [
  {
   "cell_type": "code",
   "execution_count": 1,
   "metadata": {},
   "outputs": [],
   "source": [
    "from src.stats_scraper import StatsScraper"
   ]
  },
  {
   "cell_type": "code",
   "execution_count": 2,
   "metadata": {},
   "outputs": [],
   "source": [
    "ss = StatsScraper(\"../data/\")"
   ]
  },
  {
   "cell_type": "code",
   "execution_count": 4,
   "metadata": {},
   "outputs": [
    {
     "name": "stdout",
     "output_type": "stream",
     "text": [
      "## StatsExtractor: convert SEASON 2010/2011 to a csv for a xG model.\n",
      "\t... saved [10.45 s] to '../data/xg_pbp/2010-2011.csv'\n",
      "## StatsExtractor: convert SEASON 2011/2012 to a csv for a xG model.\n",
      "\t... saved [9.28 s] to '../data/xg_pbp/2011-2012.csv'\n",
      "## StatsExtractor: convert SEASON 2012/2013 to a csv for a xG model.\n",
      "\t... saved [5.50 s] to '../data/xg_pbp/2012-2013.csv'\n",
      "## StatsExtractor: convert SEASON 2013/2014 to a csv for a xG model.\n"
     ]
    },
    {
     "name": "stderr",
     "output_type": "stream",
     "text": [
      "/home/alf/skola/2021_jaro/pa026_projekt/nhl-predict/src/xg_parse_utils.py:122: RuntimeWarning: invalid value encountered in true_divide\n",
      "  event_vec /= np.linalg.norm(event_vec)\n"
     ]
    },
    {
     "name": "stdout",
     "output_type": "stream",
     "text": [
      "\t... saved [10.35 s] to '../data/xg_pbp/2013-2014.csv'\n",
      "## StatsExtractor: convert SEASON 2014/2015 to a csv for a xG model.\n",
      "\t... saved [10.01 s] to '../data/xg_pbp/2014-2015.csv'\n",
      "## StatsExtractor: convert SEASON 2015/2016 to a csv for a xG model.\n",
      "\t... saved [9.55 s] to '../data/xg_pbp/2015-2016.csv'\n",
      "## StatsExtractor: convert SEASON 2016/2017 to a csv for a xG model.\n",
      "\t... saved [8.94 s] to '../data/xg_pbp/2016-2017.csv'\n",
      "## StatsExtractor: convert SEASON 2017/2018 to a csv for a xG model.\n",
      "\t... saved [10.21 s] to '../data/xg_pbp/2017-2018.csv'\n",
      "## StatsExtractor: convert SEASON 2018/2019 to a csv for a xG model.\n",
      "\t... saved [9.34 s] to '../data/xg_pbp/2018-2019.csv'\n"
     ]
    }
   ],
   "source": [
    "for season in range(2010, 2019):\n",
    "    ss.convert_season_to_xg_pandas(season, save_to_csv=True)"
   ]
  },
  {
   "cell_type": "code",
   "execution_count": null,
   "metadata": {},
   "outputs": [],
   "source": []
  }
 ]
}