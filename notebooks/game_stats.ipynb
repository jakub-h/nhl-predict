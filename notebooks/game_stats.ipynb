{
 "metadata": {
  "language_info": {
   "codemirror_mode": {
    "name": "ipython",
    "version": 3
   },
   "file_extension": ".py",
   "mimetype": "text/x-python",
   "name": "python",
   "nbconvert_exporter": "python",
   "pygments_lexer": "ipython3",
   "version": "3.9.4-final"
  },
  "orig_nbformat": 2,
  "kernelspec": {
   "name": "python394jvsc74a57bd00c9acb80114d75111e08c987f5bf86b38069c9b8447ed2432288d99bf01e48a5",
   "display_name": "Python 3.9.4 64-bit ('nhl-predict': venv)",
   "language": "python"
  }
 },
 "nbformat": 4,
 "nbformat_minor": 2,
 "cells": [
  {
   "cell_type": "code",
   "execution_count": 1,
   "metadata": {},
   "outputs": [],
   "source": [
    "import pandas as pd\n",
    "import requests\n",
    "import json\n",
    "import numpy as np\n",
    "import sys\n",
    "import pickle\n",
    "import multiprocessing as mp\n",
    "from datetime import datetime, timezone, timedelta\n",
    "from pathlib import Path\n",
    "from src.stats_extractor import StatsExtractor\n",
    "from src.utils import assign_game_ids"
   ]
  },
  {
   "cell_type": "code",
   "execution_count": 2,
   "metadata": {},
   "outputs": [],
   "source": [
    "se = StatsExtractor(\"../data/\")"
   ]
  },
  {
   "cell_type": "code",
   "execution_count": 3,
   "metadata": {},
   "outputs": [
    {
     "output_type": "stream",
     "name": "stdout",
     "text": [
      "## StatsExtractor: download SEASON 2010/2011 from NHL API\n",
      "... saved [43.03 s] to '../data/games_raw/2010-2011.pkl'\n",
      "## StatsExtractor: download SEASON 2011/2012 from NHL API\n",
      "... saved [41.02 s] to '../data/games_raw/2011-2012.pkl'\n",
      "## StatsExtractor: download SEASON 2012/2013 from NHL API\n",
      "... saved [25.72 s] to '../data/games_raw/2012-2013.pkl'\n",
      "## StatsExtractor: download SEASON 2013/2014 from NHL API\n",
      "... saved [40.98 s] to '../data/games_raw/2013-2014.pkl'\n",
      "## StatsExtractor: download SEASON 2014/2015 from NHL API\n",
      "... saved [42.30 s] to '../data/games_raw/2014-2015.pkl'\n",
      "## StatsExtractor: download SEASON 2015/2016 from NHL API\n",
      "... saved [40.32 s] to '../data/games_raw/2015-2016.pkl'\n",
      "## StatsExtractor: download SEASON 2016/2017 from NHL API\n",
      "... saved [39.19 s] to '../data/games_raw/2016-2017.pkl'\n",
      "## StatsExtractor: download SEASON 2017/2018 from NHL API\n",
      "... saved [39.67 s] to '../data/games_raw/2017-2018.pkl'\n",
      "## StatsExtractor: download SEASON 2018/2019 from NHL API\n",
      "... saved [42.25 s] to '../data/games_raw/2018-2019.pkl'\n"
     ]
    }
   ],
   "source": [
    "for i_season in range(2010, 2019):\n",
    "    se.download_season(i_season, n_jobs=10)"
   ]
  },
  {
   "cell_type": "code",
   "execution_count": 11,
   "metadata": {},
   "outputs": [
    {
     "output_type": "execute_result",
     "data": {
      "text/plain": [
       "{'id': 10,\n",
       " 'name': 'Toronto Maple Leafs',\n",
       " 'triCode': 'TOR',\n",
       " 'teamStats': {'goals': 3,\n",
       "  'pim': 6,\n",
       "  'shots': 24,\n",
       "  'powerPlayPercentage': '0.0',\n",
       "  'powerPlayGoals': 0.0,\n",
       "  'powerPlayOpportunities': 5.0,\n",
       "  'faceOffWinPercentage': '46.5',\n",
       "  'blocked': 22,\n",
       "  'takeaways': 6,\n",
       "  'giveaways': 16,\n",
       "  'hits': 27}}"
      ]
     },
     "metadata": {},
     "execution_count": 11
    }
   ],
   "source": [
    "with open(\"../data/games_raw/2010-2011.pkl\", \"rb\") as f:\n",
    "    games = pickle.load(f)\n",
    "games[0]['teams']['home']\n"
   ]
  },
  {
   "cell_type": "code",
   "execution_count": 153,
   "metadata": {},
   "outputs": [
    {
     "output_type": "stream",
     "name": "stdout",
     "text": [
      "Game Nr. 11: <Response [200]>"
     ]
    },
    {
     "output_type": "error",
     "ename": "KeyboardInterrupt",
     "evalue": "",
     "traceback": [
      "\u001b[0;31m---------------------------------------------------------------------------\u001b[0m",
      "\u001b[0;31mKeyboardInterrupt\u001b[0m                         Traceback (most recent call last)",
      "\u001b[0;32m<timed exec>\u001b[0m in \u001b[0;36m<module>\u001b[0;34m\u001b[0m\n",
      "\u001b[0;32m~/.virtualenvs/nhl-predict/lib/python3.9/site-packages/requests/api.py\u001b[0m in \u001b[0;36mget\u001b[0;34m(url, params, **kwargs)\u001b[0m\n\u001b[1;32m     74\u001b[0m \u001b[0;34m\u001b[0m\u001b[0m\n\u001b[1;32m     75\u001b[0m     \u001b[0mkwargs\u001b[0m\u001b[0;34m.\u001b[0m\u001b[0msetdefault\u001b[0m\u001b[0;34m(\u001b[0m\u001b[0;34m'allow_redirects'\u001b[0m\u001b[0;34m,\u001b[0m \u001b[0;32mTrue\u001b[0m\u001b[0;34m)\u001b[0m\u001b[0;34m\u001b[0m\u001b[0;34m\u001b[0m\u001b[0m\n\u001b[0;32m---> 76\u001b[0;31m     \u001b[0;32mreturn\u001b[0m \u001b[0mrequest\u001b[0m\u001b[0;34m(\u001b[0m\u001b[0;34m'get'\u001b[0m\u001b[0;34m,\u001b[0m \u001b[0murl\u001b[0m\u001b[0;34m,\u001b[0m \u001b[0mparams\u001b[0m\u001b[0;34m=\u001b[0m\u001b[0mparams\u001b[0m\u001b[0;34m,\u001b[0m \u001b[0;34m**\u001b[0m\u001b[0mkwargs\u001b[0m\u001b[0;34m)\u001b[0m\u001b[0;34m\u001b[0m\u001b[0;34m\u001b[0m\u001b[0m\n\u001b[0m\u001b[1;32m     77\u001b[0m \u001b[0;34m\u001b[0m\u001b[0m\n\u001b[1;32m     78\u001b[0m \u001b[0;34m\u001b[0m\u001b[0m\n",
      "\u001b[0;32m~/.virtualenvs/nhl-predict/lib/python3.9/site-packages/requests/api.py\u001b[0m in \u001b[0;36mrequest\u001b[0;34m(method, url, **kwargs)\u001b[0m\n\u001b[1;32m     59\u001b[0m     \u001b[0;31m# cases, and look like a memory leak in others.\u001b[0m\u001b[0;34m\u001b[0m\u001b[0;34m\u001b[0m\u001b[0;34m\u001b[0m\u001b[0m\n\u001b[1;32m     60\u001b[0m     \u001b[0;32mwith\u001b[0m \u001b[0msessions\u001b[0m\u001b[0;34m.\u001b[0m\u001b[0mSession\u001b[0m\u001b[0;34m(\u001b[0m\u001b[0;34m)\u001b[0m \u001b[0;32mas\u001b[0m \u001b[0msession\u001b[0m\u001b[0;34m:\u001b[0m\u001b[0;34m\u001b[0m\u001b[0;34m\u001b[0m\u001b[0m\n\u001b[0;32m---> 61\u001b[0;31m         \u001b[0;32mreturn\u001b[0m \u001b[0msession\u001b[0m\u001b[0;34m.\u001b[0m\u001b[0mrequest\u001b[0m\u001b[0;34m(\u001b[0m\u001b[0mmethod\u001b[0m\u001b[0;34m=\u001b[0m\u001b[0mmethod\u001b[0m\u001b[0;34m,\u001b[0m \u001b[0murl\u001b[0m\u001b[0;34m=\u001b[0m\u001b[0murl\u001b[0m\u001b[0;34m,\u001b[0m \u001b[0;34m**\u001b[0m\u001b[0mkwargs\u001b[0m\u001b[0;34m)\u001b[0m\u001b[0;34m\u001b[0m\u001b[0;34m\u001b[0m\u001b[0m\n\u001b[0m\u001b[1;32m     62\u001b[0m \u001b[0;34m\u001b[0m\u001b[0m\n\u001b[1;32m     63\u001b[0m \u001b[0;34m\u001b[0m\u001b[0m\n",
      "\u001b[0;32m~/.virtualenvs/nhl-predict/lib/python3.9/site-packages/requests/sessions.py\u001b[0m in \u001b[0;36mrequest\u001b[0;34m(self, method, url, params, data, headers, cookies, files, auth, timeout, allow_redirects, proxies, hooks, stream, verify, cert, json)\u001b[0m\n\u001b[1;32m    540\u001b[0m         }\n\u001b[1;32m    541\u001b[0m         \u001b[0msend_kwargs\u001b[0m\u001b[0;34m.\u001b[0m\u001b[0mupdate\u001b[0m\u001b[0;34m(\u001b[0m\u001b[0msettings\u001b[0m\u001b[0;34m)\u001b[0m\u001b[0;34m\u001b[0m\u001b[0;34m\u001b[0m\u001b[0m\n\u001b[0;32m--> 542\u001b[0;31m         \u001b[0mresp\u001b[0m \u001b[0;34m=\u001b[0m \u001b[0mself\u001b[0m\u001b[0;34m.\u001b[0m\u001b[0msend\u001b[0m\u001b[0;34m(\u001b[0m\u001b[0mprep\u001b[0m\u001b[0;34m,\u001b[0m \u001b[0;34m**\u001b[0m\u001b[0msend_kwargs\u001b[0m\u001b[0;34m)\u001b[0m\u001b[0;34m\u001b[0m\u001b[0;34m\u001b[0m\u001b[0m\n\u001b[0m\u001b[1;32m    543\u001b[0m \u001b[0;34m\u001b[0m\u001b[0m\n\u001b[1;32m    544\u001b[0m         \u001b[0;32mreturn\u001b[0m \u001b[0mresp\u001b[0m\u001b[0;34m\u001b[0m\u001b[0;34m\u001b[0m\u001b[0m\n",
      "\u001b[0;32m~/.virtualenvs/nhl-predict/lib/python3.9/site-packages/requests/sessions.py\u001b[0m in \u001b[0;36msend\u001b[0;34m(self, request, **kwargs)\u001b[0m\n\u001b[1;32m    653\u001b[0m \u001b[0;34m\u001b[0m\u001b[0m\n\u001b[1;32m    654\u001b[0m         \u001b[0;31m# Send the request\u001b[0m\u001b[0;34m\u001b[0m\u001b[0;34m\u001b[0m\u001b[0;34m\u001b[0m\u001b[0m\n\u001b[0;32m--> 655\u001b[0;31m         \u001b[0mr\u001b[0m \u001b[0;34m=\u001b[0m \u001b[0madapter\u001b[0m\u001b[0;34m.\u001b[0m\u001b[0msend\u001b[0m\u001b[0;34m(\u001b[0m\u001b[0mrequest\u001b[0m\u001b[0;34m,\u001b[0m \u001b[0;34m**\u001b[0m\u001b[0mkwargs\u001b[0m\u001b[0;34m)\u001b[0m\u001b[0;34m\u001b[0m\u001b[0;34m\u001b[0m\u001b[0m\n\u001b[0m\u001b[1;32m    656\u001b[0m \u001b[0;34m\u001b[0m\u001b[0m\n\u001b[1;32m    657\u001b[0m         \u001b[0;31m# Total elapsed time of the request (approximately)\u001b[0m\u001b[0;34m\u001b[0m\u001b[0;34m\u001b[0m\u001b[0;34m\u001b[0m\u001b[0m\n",
      "\u001b[0;32m~/.virtualenvs/nhl-predict/lib/python3.9/site-packages/requests/adapters.py\u001b[0m in \u001b[0;36msend\u001b[0;34m(self, request, stream, timeout, verify, cert, proxies)\u001b[0m\n\u001b[1;32m    437\u001b[0m         \u001b[0;32mtry\u001b[0m\u001b[0;34m:\u001b[0m\u001b[0;34m\u001b[0m\u001b[0;34m\u001b[0m\u001b[0m\n\u001b[1;32m    438\u001b[0m             \u001b[0;32mif\u001b[0m \u001b[0;32mnot\u001b[0m \u001b[0mchunked\u001b[0m\u001b[0;34m:\u001b[0m\u001b[0;34m\u001b[0m\u001b[0;34m\u001b[0m\u001b[0m\n\u001b[0;32m--> 439\u001b[0;31m                 resp = conn.urlopen(\n\u001b[0m\u001b[1;32m    440\u001b[0m                     \u001b[0mmethod\u001b[0m\u001b[0;34m=\u001b[0m\u001b[0mrequest\u001b[0m\u001b[0;34m.\u001b[0m\u001b[0mmethod\u001b[0m\u001b[0;34m,\u001b[0m\u001b[0;34m\u001b[0m\u001b[0;34m\u001b[0m\u001b[0m\n\u001b[1;32m    441\u001b[0m                     \u001b[0murl\u001b[0m\u001b[0;34m=\u001b[0m\u001b[0murl\u001b[0m\u001b[0;34m,\u001b[0m\u001b[0;34m\u001b[0m\u001b[0;34m\u001b[0m\u001b[0m\n",
      "\u001b[0;32m~/.virtualenvs/nhl-predict/lib/python3.9/site-packages/urllib3/connectionpool.py\u001b[0m in \u001b[0;36murlopen\u001b[0;34m(self, method, url, body, headers, retries, redirect, assert_same_host, timeout, pool_timeout, release_conn, chunked, body_pos, **response_kw)\u001b[0m\n\u001b[1;32m    697\u001b[0m \u001b[0;34m\u001b[0m\u001b[0m\n\u001b[1;32m    698\u001b[0m             \u001b[0;31m# Make the request on the httplib connection object.\u001b[0m\u001b[0;34m\u001b[0m\u001b[0;34m\u001b[0m\u001b[0;34m\u001b[0m\u001b[0m\n\u001b[0;32m--> 699\u001b[0;31m             httplib_response = self._make_request(\n\u001b[0m\u001b[1;32m    700\u001b[0m                 \u001b[0mconn\u001b[0m\u001b[0;34m,\u001b[0m\u001b[0;34m\u001b[0m\u001b[0;34m\u001b[0m\u001b[0m\n\u001b[1;32m    701\u001b[0m                 \u001b[0mmethod\u001b[0m\u001b[0;34m,\u001b[0m\u001b[0;34m\u001b[0m\u001b[0;34m\u001b[0m\u001b[0m\n",
      "\u001b[0;32m~/.virtualenvs/nhl-predict/lib/python3.9/site-packages/urllib3/connectionpool.py\u001b[0m in \u001b[0;36m_make_request\u001b[0;34m(self, conn, method, url, timeout, chunked, **httplib_request_kw)\u001b[0m\n\u001b[1;32m    380\u001b[0m         \u001b[0;31m# Trigger any extra validation we need to do.\u001b[0m\u001b[0;34m\u001b[0m\u001b[0;34m\u001b[0m\u001b[0;34m\u001b[0m\u001b[0m\n\u001b[1;32m    381\u001b[0m         \u001b[0;32mtry\u001b[0m\u001b[0;34m:\u001b[0m\u001b[0;34m\u001b[0m\u001b[0;34m\u001b[0m\u001b[0m\n\u001b[0;32m--> 382\u001b[0;31m             \u001b[0mself\u001b[0m\u001b[0;34m.\u001b[0m\u001b[0m_validate_conn\u001b[0m\u001b[0;34m(\u001b[0m\u001b[0mconn\u001b[0m\u001b[0;34m)\u001b[0m\u001b[0;34m\u001b[0m\u001b[0;34m\u001b[0m\u001b[0m\n\u001b[0m\u001b[1;32m    383\u001b[0m         \u001b[0;32mexcept\u001b[0m \u001b[0;34m(\u001b[0m\u001b[0mSocketTimeout\u001b[0m\u001b[0;34m,\u001b[0m \u001b[0mBaseSSLError\u001b[0m\u001b[0;34m)\u001b[0m \u001b[0;32mas\u001b[0m \u001b[0me\u001b[0m\u001b[0;34m:\u001b[0m\u001b[0;34m\u001b[0m\u001b[0;34m\u001b[0m\u001b[0m\n\u001b[1;32m    384\u001b[0m             \u001b[0;31m# Py2 raises this as a BaseSSLError, Py3 raises it as socket timeout.\u001b[0m\u001b[0;34m\u001b[0m\u001b[0;34m\u001b[0m\u001b[0;34m\u001b[0m\u001b[0m\n",
      "\u001b[0;32m~/.virtualenvs/nhl-predict/lib/python3.9/site-packages/urllib3/connectionpool.py\u001b[0m in \u001b[0;36m_validate_conn\u001b[0;34m(self, conn)\u001b[0m\n\u001b[1;32m   1008\u001b[0m         \u001b[0;31m# Force connect early to allow us to validate the connection.\u001b[0m\u001b[0;34m\u001b[0m\u001b[0;34m\u001b[0m\u001b[0;34m\u001b[0m\u001b[0m\n\u001b[1;32m   1009\u001b[0m         \u001b[0;32mif\u001b[0m \u001b[0;32mnot\u001b[0m \u001b[0mgetattr\u001b[0m\u001b[0;34m(\u001b[0m\u001b[0mconn\u001b[0m\u001b[0;34m,\u001b[0m \u001b[0;34m\"sock\"\u001b[0m\u001b[0;34m,\u001b[0m \u001b[0;32mNone\u001b[0m\u001b[0;34m)\u001b[0m\u001b[0;34m:\u001b[0m  \u001b[0;31m# AppEngine might not have  `.sock`\u001b[0m\u001b[0;34m\u001b[0m\u001b[0;34m\u001b[0m\u001b[0m\n\u001b[0;32m-> 1010\u001b[0;31m             \u001b[0mconn\u001b[0m\u001b[0;34m.\u001b[0m\u001b[0mconnect\u001b[0m\u001b[0;34m(\u001b[0m\u001b[0;34m)\u001b[0m\u001b[0;34m\u001b[0m\u001b[0;34m\u001b[0m\u001b[0m\n\u001b[0m\u001b[1;32m   1011\u001b[0m \u001b[0;34m\u001b[0m\u001b[0m\n\u001b[1;32m   1012\u001b[0m         \u001b[0;32mif\u001b[0m \u001b[0;32mnot\u001b[0m \u001b[0mconn\u001b[0m\u001b[0;34m.\u001b[0m\u001b[0mis_verified\u001b[0m\u001b[0;34m:\u001b[0m\u001b[0;34m\u001b[0m\u001b[0;34m\u001b[0m\u001b[0m\n",
      "\u001b[0;32m~/.virtualenvs/nhl-predict/lib/python3.9/site-packages/urllib3/connection.py\u001b[0m in \u001b[0;36mconnect\u001b[0;34m(self)\u001b[0m\n\u001b[1;32m    351\u001b[0m     \u001b[0;32mdef\u001b[0m \u001b[0mconnect\u001b[0m\u001b[0;34m(\u001b[0m\u001b[0mself\u001b[0m\u001b[0;34m)\u001b[0m\u001b[0;34m:\u001b[0m\u001b[0;34m\u001b[0m\u001b[0;34m\u001b[0m\u001b[0m\n\u001b[1;32m    352\u001b[0m         \u001b[0;31m# Add certificate verification\u001b[0m\u001b[0;34m\u001b[0m\u001b[0;34m\u001b[0m\u001b[0;34m\u001b[0m\u001b[0m\n\u001b[0;32m--> 353\u001b[0;31m         \u001b[0mconn\u001b[0m \u001b[0;34m=\u001b[0m \u001b[0mself\u001b[0m\u001b[0;34m.\u001b[0m\u001b[0m_new_conn\u001b[0m\u001b[0;34m(\u001b[0m\u001b[0;34m)\u001b[0m\u001b[0;34m\u001b[0m\u001b[0;34m\u001b[0m\u001b[0m\n\u001b[0m\u001b[1;32m    354\u001b[0m         \u001b[0mhostname\u001b[0m \u001b[0;34m=\u001b[0m \u001b[0mself\u001b[0m\u001b[0;34m.\u001b[0m\u001b[0mhost\u001b[0m\u001b[0;34m\u001b[0m\u001b[0;34m\u001b[0m\u001b[0m\n\u001b[1;32m    355\u001b[0m         \u001b[0mtls_in_tls\u001b[0m \u001b[0;34m=\u001b[0m \u001b[0;32mFalse\u001b[0m\u001b[0;34m\u001b[0m\u001b[0;34m\u001b[0m\u001b[0m\n",
      "\u001b[0;32m~/.virtualenvs/nhl-predict/lib/python3.9/site-packages/urllib3/connection.py\u001b[0m in \u001b[0;36m_new_conn\u001b[0;34m(self)\u001b[0m\n\u001b[1;32m    167\u001b[0m \u001b[0;34m\u001b[0m\u001b[0m\n\u001b[1;32m    168\u001b[0m         \u001b[0;32mtry\u001b[0m\u001b[0;34m:\u001b[0m\u001b[0;34m\u001b[0m\u001b[0;34m\u001b[0m\u001b[0m\n\u001b[0;32m--> 169\u001b[0;31m             conn = connection.create_connection(\n\u001b[0m\u001b[1;32m    170\u001b[0m                 \u001b[0;34m(\u001b[0m\u001b[0mself\u001b[0m\u001b[0;34m.\u001b[0m\u001b[0m_dns_host\u001b[0m\u001b[0;34m,\u001b[0m \u001b[0mself\u001b[0m\u001b[0;34m.\u001b[0m\u001b[0mport\u001b[0m\u001b[0;34m)\u001b[0m\u001b[0;34m,\u001b[0m \u001b[0mself\u001b[0m\u001b[0;34m.\u001b[0m\u001b[0mtimeout\u001b[0m\u001b[0;34m,\u001b[0m \u001b[0;34m**\u001b[0m\u001b[0mextra_kw\u001b[0m\u001b[0;34m\u001b[0m\u001b[0;34m\u001b[0m\u001b[0m\n\u001b[1;32m    171\u001b[0m             )\n",
      "\u001b[0;32m~/.virtualenvs/nhl-predict/lib/python3.9/site-packages/urllib3/util/connection.py\u001b[0m in \u001b[0;36mcreate_connection\u001b[0;34m(address, timeout, source_address, socket_options)\u001b[0m\n\u001b[1;32m     84\u001b[0m             \u001b[0;32mif\u001b[0m \u001b[0msource_address\u001b[0m\u001b[0;34m:\u001b[0m\u001b[0;34m\u001b[0m\u001b[0;34m\u001b[0m\u001b[0m\n\u001b[1;32m     85\u001b[0m                 \u001b[0msock\u001b[0m\u001b[0;34m.\u001b[0m\u001b[0mbind\u001b[0m\u001b[0;34m(\u001b[0m\u001b[0msource_address\u001b[0m\u001b[0;34m)\u001b[0m\u001b[0;34m\u001b[0m\u001b[0;34m\u001b[0m\u001b[0m\n\u001b[0;32m---> 86\u001b[0;31m             \u001b[0msock\u001b[0m\u001b[0;34m.\u001b[0m\u001b[0mconnect\u001b[0m\u001b[0;34m(\u001b[0m\u001b[0msa\u001b[0m\u001b[0;34m)\u001b[0m\u001b[0;34m\u001b[0m\u001b[0;34m\u001b[0m\u001b[0m\n\u001b[0m\u001b[1;32m     87\u001b[0m             \u001b[0;32mreturn\u001b[0m \u001b[0msock\u001b[0m\u001b[0;34m\u001b[0m\u001b[0;34m\u001b[0m\u001b[0m\n\u001b[1;32m     88\u001b[0m \u001b[0;34m\u001b[0m\u001b[0m\n",
      "\u001b[0;31mKeyboardInterrupt\u001b[0m: "
     ]
    }
   ],
   "source": [
    "%%time\n",
    "games = []\n",
    "for game_num in range(1, max_game_num):\n",
    "    game_url = base_url + f\"game/{season}{game_type:02d}{game_num:04d}/feed/live\"\n",
    "    response = requests.get(game_url)\n",
    "    if response.status_code != 200:\n",
    "        print()\n",
    "        print(f\"!! Game Nr. {game_num}: {response}\")\n",
    "        break  \n",
    "    print(f\"\\rGame Nr. {game_num}: {response}\", end=\"\")\n",
    "    games.append(response.json())"
   ]
  },
  {
   "cell_type": "code",
   "execution_count": null,
   "metadata": {},
   "outputs": [],
   "source": [
    "len(games[0])"
   ]
  },
  {
   "cell_type": "code",
   "execution_count": 59,
   "metadata": {},
   "outputs": [
    {
     "output_type": "execute_result",
     "data": {
      "text/plain": [
       "dict_keys(['copyright', 'gamePk', 'link', 'metaData', 'gameData', 'liveData'])"
      ]
     },
     "metadata": {},
     "execution_count": 59
    }
   ],
   "source": [
    "game_num = 1\n",
    "season = 2013\n",
    "base_url = \"https://statsapi.web.nhl.com/api/v1/\"\n",
    "game_url = base_url + f\"game/{season}02{game_num:04d}/feed/live\"\n",
    "response = requests.get(game_url)\n",
    "game_json = response.json()\n",
    "game_json.keys()"
   ]
  },
  {
   "cell_type": "code",
   "execution_count": 60,
   "metadata": {},
   "outputs": [
    {
     "output_type": "stream",
     "name": "stdout",
     "text": [
      "Montréal Canadiens - Toronto Maple Leafs\n"
     ]
    }
   ],
   "source": [
    "print(game_json['gameData']['teams']['home']['name'], \"-\", game_json['gameData']['teams']['away']['name'])"
   ]
  },
  {
   "cell_type": "code",
   "execution_count": 61,
   "metadata": {},
   "outputs": [
    {
     "output_type": "execute_result",
     "data": {
      "text/plain": [
       "datetime.datetime(2013, 10, 1, 17, 0, tzinfo=datetime.timezone(datetime.timedelta(days=-1, seconds=72000)))"
      ]
     },
     "metadata": {},
     "execution_count": 61
    }
   ],
   "source": [
    "dt = datetime.strptime(game_json['gameData']['datetime']['dateTime'], \"%Y-%m-%dT%H:%M:%SZ\")\n",
    "dt.astimezone(timezone(timedelta(hours=-4)))"
   ]
  },
  {
   "cell_type": "code",
   "execution_count": 106,
   "metadata": {},
   "outputs": [
    {
     "output_type": "execute_result",
     "data": {
      "text/plain": [
       "dict_keys(['players', 'result', 'about', 'coordinates', 'team'])"
      ]
     },
     "metadata": {},
     "execution_count": 106
    }
   ],
   "source": [
    "game_json['liveData']['plays']['allPlays'][3].keys()"
   ]
  },
  {
   "cell_type": "code",
   "execution_count": 99,
   "metadata": {},
   "outputs": [
    {
     "output_type": "execute_result",
     "data": {
      "text/plain": [
       "'PENALTY'"
      ]
     },
     "metadata": {},
     "execution_count": 99
    }
   ],
   "source": [
    "game_json[\"liveData\"]['plays']['allPlays'][56]['result']['eventTypeId']"
   ]
  },
  {
   "cell_type": "code",
   "execution_count": 112,
   "metadata": {
    "tags": []
   },
   "outputs": [
    {
     "output_type": "execute_result",
     "data": {
      "text/plain": [
       "{'home': {'id': 8,\n",
       "  'name': 'Montréal Canadiens',\n",
       "  'triCode': 'MTL',\n",
       "  'teamStats': {'goals': 3,\n",
       "   'pim': 53,\n",
       "   'shots': 37,\n",
       "   'powerPlayPercentage': '0.0',\n",
       "   'powerPlayGoals': 0.0,\n",
       "   'powerPlayOpportunities': 4.0,\n",
       "   'faceOffWinPercentage': '47.3',\n",
       "   'blocked': 15,\n",
       "   'takeaways': 7,\n",
       "   'giveaways': 10,\n",
       "   'hits': 21}},\n",
       " 'away': {'id': 10,\n",
       "  'name': 'Toronto Maple Leafs',\n",
       "  'triCode': 'TOR',\n",
       "  'teamStats': {'goals': 4,\n",
       "   'pim': 47,\n",
       "   'shots': 38,\n",
       "   'powerPlayPercentage': '14.3',\n",
       "   'powerPlayGoals': 1.0,\n",
       "   'powerPlayOpportunities': 7.0,\n",
       "   'faceOffWinPercentage': '52.7',\n",
       "   'blocked': 17,\n",
       "   'takeaways': 3,\n",
       "   'giveaways': 5,\n",
       "   'hits': 25}}}"
      ]
     },
     "metadata": {},
     "execution_count": 112
    }
   ],
   "source": [
    "result = {}\n",
    "result['id'] = game_json['gamePk']\n",
    "result['datetime'] = game_json['gameData']['datetime']['dateTime']\n",
    "result['teams'] = {}\n",
    "for team in ['home', 'away']:\n",
    "    result['teams'][team] = {}\n",
    "    for key in ['id', 'name', 'triCode']:\n",
    "        result['teams'][team][key] = game_json['gameData']['teams'][team][key]\n",
    "    result['teams'][team]['teamStats'] = game_json['liveData']['boxscore']['teams'][team]['teamStats']['teamSkaterStats']\n",
    "result['plays'] = []\n",
    "for play in game_json['liveData']['plays']['allPlays']:\n",
    "    if bool(play['coordinates']):\n",
    "        result['plays'].append({\n",
    "            'type': play['result']['eventTypeId'],\n",
    "            'team': play['team'],\n",
    "            'coordinates': play['coordinates']\n",
    "        })\n",
    "result['teams']"
   ]
  },
  {
   "cell_type": "code",
   "execution_count": 22,
   "metadata": {},
   "outputs": [
    {
     "output_type": "execute_result",
     "data": {
      "text/plain": [
       "                    date                 home                 away result  \\\n",
       "0    2013-10-01 19:00:00   Montreal Canadiens  Toronto Maple Leafs      2   \n",
       "1    2013-10-01 20:00:00   Chicago Blackhawks  Washington Capitals      1   \n",
       "2    2013-10-01 22:00:00      Edmonton Oilers        Winnipeg Jets      2   \n",
       "3    2013-10-02 19:30:00  Philadelphia Flyers  Toronto Maple Leafs      2   \n",
       "4    2013-10-02 20:00:00    Detroit Red Wings       Buffalo Sabres      1   \n",
       "...                  ...                  ...                  ...    ...   \n",
       "1225 2014-04-13 19:30:00  Pittsburgh Penguins      Ottawa Senators      X   \n",
       "1226 2014-04-13 20:00:00       Minnesota Wild  Nashville Predators      2   \n",
       "1227 2014-04-13 20:00:00        Anaheim Ducks   Colorado Avalanche      X   \n",
       "1228 2014-04-13 21:00:00    Vancouver Canucks       Calgary Flames      1   \n",
       "1229 2014-04-13 21:00:00      Arizona Coyotes         Dallas Stars      1   \n",
       "\n",
       "         1     X     2  \n",
       "0     2.26  3.89  2.70  \n",
       "1     1.93  4.09  3.30  \n",
       "2     2.11  3.88  2.96  \n",
       "3     2.24  4.01  2.71  \n",
       "4     1.78  4.17  3.77  \n",
       "...    ...   ...   ...  \n",
       "1225  1.92  4.05  3.29  \n",
       "1226  1.95  3.89  3.36  \n",
       "1227  2.13  3.85  2.94  \n",
       "1228  2.05  3.76  3.16  \n",
       "1229  2.14  3.86  2.92  \n",
       "\n",
       "[1230 rows x 7 columns]"
      ],
      "text/html": "<div>\n<style scoped>\n    .dataframe tbody tr th:only-of-type {\n        vertical-align: middle;\n    }\n\n    .dataframe tbody tr th {\n        vertical-align: top;\n    }\n\n    .dataframe thead th {\n        text-align: right;\n    }\n</style>\n<table border=\"1\" class=\"dataframe\">\n  <thead>\n    <tr style=\"text-align: right;\">\n      <th></th>\n      <th>date</th>\n      <th>home</th>\n      <th>away</th>\n      <th>result</th>\n      <th>1</th>\n      <th>X</th>\n      <th>2</th>\n    </tr>\n  </thead>\n  <tbody>\n    <tr>\n      <th>0</th>\n      <td>2013-10-01 19:00:00</td>\n      <td>Montreal Canadiens</td>\n      <td>Toronto Maple Leafs</td>\n      <td>2</td>\n      <td>2.26</td>\n      <td>3.89</td>\n      <td>2.70</td>\n    </tr>\n    <tr>\n      <th>1</th>\n      <td>2013-10-01 20:00:00</td>\n      <td>Chicago Blackhawks</td>\n      <td>Washington Capitals</td>\n      <td>1</td>\n      <td>1.93</td>\n      <td>4.09</td>\n      <td>3.30</td>\n    </tr>\n    <tr>\n      <th>2</th>\n      <td>2013-10-01 22:00:00</td>\n      <td>Edmonton Oilers</td>\n      <td>Winnipeg Jets</td>\n      <td>2</td>\n      <td>2.11</td>\n      <td>3.88</td>\n      <td>2.96</td>\n    </tr>\n    <tr>\n      <th>3</th>\n      <td>2013-10-02 19:30:00</td>\n      <td>Philadelphia Flyers</td>\n      <td>Toronto Maple Leafs</td>\n      <td>2</td>\n      <td>2.24</td>\n      <td>4.01</td>\n      <td>2.71</td>\n    </tr>\n    <tr>\n      <th>4</th>\n      <td>2013-10-02 20:00:00</td>\n      <td>Detroit Red Wings</td>\n      <td>Buffalo Sabres</td>\n      <td>1</td>\n      <td>1.78</td>\n      <td>4.17</td>\n      <td>3.77</td>\n    </tr>\n    <tr>\n      <th>...</th>\n      <td>...</td>\n      <td>...</td>\n      <td>...</td>\n      <td>...</td>\n      <td>...</td>\n      <td>...</td>\n      <td>...</td>\n    </tr>\n    <tr>\n      <th>1225</th>\n      <td>2014-04-13 19:30:00</td>\n      <td>Pittsburgh Penguins</td>\n      <td>Ottawa Senators</td>\n      <td>X</td>\n      <td>1.92</td>\n      <td>4.05</td>\n      <td>3.29</td>\n    </tr>\n    <tr>\n      <th>1226</th>\n      <td>2014-04-13 20:00:00</td>\n      <td>Minnesota Wild</td>\n      <td>Nashville Predators</td>\n      <td>2</td>\n      <td>1.95</td>\n      <td>3.89</td>\n      <td>3.36</td>\n    </tr>\n    <tr>\n      <th>1227</th>\n      <td>2014-04-13 20:00:00</td>\n      <td>Anaheim Ducks</td>\n      <td>Colorado Avalanche</td>\n      <td>X</td>\n      <td>2.13</td>\n      <td>3.85</td>\n      <td>2.94</td>\n    </tr>\n    <tr>\n      <th>1228</th>\n      <td>2014-04-13 21:00:00</td>\n      <td>Vancouver Canucks</td>\n      <td>Calgary Flames</td>\n      <td>1</td>\n      <td>2.05</td>\n      <td>3.76</td>\n      <td>3.16</td>\n    </tr>\n    <tr>\n      <th>1229</th>\n      <td>2014-04-13 21:00:00</td>\n      <td>Arizona Coyotes</td>\n      <td>Dallas Stars</td>\n      <td>1</td>\n      <td>2.14</td>\n      <td>3.86</td>\n      <td>2.92</td>\n    </tr>\n  </tbody>\n</table>\n<p>1230 rows × 7 columns</p>\n</div>"
     },
     "metadata": {},
     "execution_count": 22
    }
   ],
   "source": [
    "df = pd.read_pickle(f\"../data/odds/{season}-{season+1}.pkl\")\n",
    "df"
   ]
  },
  {
   "cell_type": "code",
   "execution_count": 25,
   "metadata": {},
   "outputs": [
    {
     "output_type": "execute_result",
     "data": {
      "text/plain": [
       "datetime.datetime(2013, 10, 1, 19, 0, tzinfo=datetime.timezone(datetime.timedelta(seconds=7200)))"
      ]
     },
     "metadata": {},
     "execution_count": 25
    }
   ],
   "source": [
    "df.iloc[0, 0].to_pydatetime().astimezone(timezone(timedelta(hours=+2)))"
   ]
  },
  {
   "cell_type": "code",
   "execution_count": 32,
   "metadata": {},
   "outputs": [
    {
     "output_type": "execute_result",
     "data": {
      "text/plain": [
       "True"
      ]
     },
     "metadata": {},
     "execution_count": 32
    }
   ],
   "source": [
    "df.iloc[0, 0].to_pydatetime().date() == dt.date()"
   ]
  },
  {
   "cell_type": "code",
   "execution_count": 31,
   "metadata": {},
   "outputs": [
    {
     "output_type": "execute_result",
     "data": {
      "text/plain": [
       "datetime.date(2013, 10, 1)"
      ]
     },
     "metadata": {},
     "execution_count": 31
    }
   ],
   "source": [
    "dt.date()"
   ]
  },
  {
   "cell_type": "code",
   "execution_count": 39,
   "outputs": [
    {
     "output_type": "stream",
     "name": "stdout",
     "text": [
      "HIT: {'x': -97.0, 'y': 20.0}\nAlex Galchenyuk hit Jake Gardiner\n{'id': 8, 'name': 'Montréal Canadiens', 'link': '/api/v1/teams/8', 'triCode': 'MTL'}\nHIT: {'x': 91.0, 'y': 39.0}\nJarred Tinordi hit Colton Orr\n{'id': 8, 'name': 'Montréal Canadiens', 'link': '/api/v1/teams/8', 'triCode': 'MTL'}\nHIT: {'x': 97.0, 'y': 14.0}\nJay McClement hit Francis Bouillon\n{'id': 10, 'name': 'Toronto Maple Leafs', 'link': '/api/v1/teams/10', 'triCode': 'TOR'}\nHIT: {'x': 95.0, 'y': -36.0}\nBrandon Prust hit Carter Ashton\n{'id': 8, 'name': 'Montréal Canadiens', 'link': '/api/v1/teams/8', 'triCode': 'MTL'}\nHIT: {'x': 51.0, 'y': 39.0}\nP.K. Subban hit Tyler Bozak\n{'id': 8, 'name': 'Montréal Canadiens', 'link': '/api/v1/teams/8', 'triCode': 'MTL'}\nHIT: {'x': -96.0, 'y': -15.0}\nAlex Galchenyuk hit Paul Ranger\n{'id': 8, 'name': 'Montréal Canadiens', 'link': '/api/v1/teams/8', 'triCode': 'MTL'}\nHIT: {'x': -92.0, 'y': -33.0}\nGeorge Parros hit Mark Fraser\n{'id': 8, 'name': 'Montréal Canadiens', 'link': '/api/v1/teams/8', 'triCode': 'MTL'}\nHIT: {'x': -85.0, 'y': -40.0}\nMark Fraser hit George Parros\n{'id': 10, 'name': 'Toronto Maple Leafs', 'link': '/api/v1/teams/10', 'triCode': 'TOR'}\nHIT: {'x': -96.0, 'y': -8.0}\nCody Franson hit Rene Bourque\n{'id': 10, 'name': 'Toronto Maple Leafs', 'link': '/api/v1/teams/10', 'triCode': 'TOR'}\nHIT: {'x': -43.0, 'y': -37.0}\nDion Phaneuf hit Tomas Plekanec\n{'id': 10, 'name': 'Toronto Maple Leafs', 'link': '/api/v1/teams/10', 'triCode': 'TOR'}\nHIT: {'x': -43.0, 'y': -40.0}\nDion Phaneuf hit Max Pacioretty\n{'id': 10, 'name': 'Toronto Maple Leafs', 'link': '/api/v1/teams/10', 'triCode': 'TOR'}\nHIT: {'x': -94.0, 'y': -10.0}\nLars Eller hit Carl Gunnarsson\n{'id': 8, 'name': 'Montréal Canadiens', 'link': '/api/v1/teams/8', 'triCode': 'MTL'}\nHIT: {'x': 91.0, 'y': -38.0}\nDave Bolland hit Josh Gorges\n{'id': 10, 'name': 'Toronto Maple Leafs', 'link': '/api/v1/teams/10', 'triCode': 'TOR'}\nHIT: {'x': -65.0, 'y': 39.0}\nNikolay Kulemin hit Max Pacioretty\n{'id': 10, 'name': 'Toronto Maple Leafs', 'link': '/api/v1/teams/10', 'triCode': 'TOR'}\nHIT: {'x': 97.0, 'y': 33.0}\nColton Orr hit Max Pacioretty\n{'id': 10, 'name': 'Toronto Maple Leafs', 'link': '/api/v1/teams/10', 'triCode': 'TOR'}\nHIT: {'x': 19.0, 'y': 40.0}\nDave Bolland hit Brandon Prust\n{'id': 10, 'name': 'Toronto Maple Leafs', 'link': '/api/v1/teams/10', 'triCode': 'TOR'}\nHIT: {'x': 98.0, 'y': -30.0}\nMason Raymond hit Brian Gionta\n{'id': 10, 'name': 'Toronto Maple Leafs', 'link': '/api/v1/teams/10', 'triCode': 'TOR'}\nHIT: {'x': 7.0, 'y': -41.0}\nTyler Bozak hit Josh Gorges\n{'id': 10, 'name': 'Toronto Maple Leafs', 'link': '/api/v1/teams/10', 'triCode': 'TOR'}\nHIT: {'x': -89.0, 'y': 42.0}\nPaul Ranger hit George Parros\n{'id': 10, 'name': 'Toronto Maple Leafs', 'link': '/api/v1/teams/10', 'triCode': 'TOR'}\nHIT: {'x': -67.0, 'y': -38.0}\nMark Fraser hit Josh Gorges\n{'id': 10, 'name': 'Toronto Maple Leafs', 'link': '/api/v1/teams/10', 'triCode': 'TOR'}\nHIT: {'x': 57.0, 'y': -38.0}\nJames van Riemsdyk hit Travis Moen\n{'id': 10, 'name': 'Toronto Maple Leafs', 'link': '/api/v1/teams/10', 'triCode': 'TOR'}\nHIT: {'x': -70.0, 'y': -40.0}\nP.K. Subban hit Tyler Bozak\n{'id': 8, 'name': 'Montréal Canadiens', 'link': '/api/v1/teams/8', 'triCode': 'MTL'}\nHIT: {'x': 88.0, 'y': -41.0}\nBrendan Gallagher hit Dion Phaneuf\n{'id': 8, 'name': 'Montréal Canadiens', 'link': '/api/v1/teams/8', 'triCode': 'MTL'}\nHIT: {'x': 97.0, 'y': -36.0}\nBrendan Gallagher hit Mason Raymond\n{'id': 8, 'name': 'Montréal Canadiens', 'link': '/api/v1/teams/8', 'triCode': 'MTL'}\nHIT: {'x': -45.0, 'y': 37.0}\nDave Bolland hit Josh Gorges\n{'id': 10, 'name': 'Toronto Maple Leafs', 'link': '/api/v1/teams/10', 'triCode': 'TOR'}\nHIT: {'x': 90.0, 'y': 41.0}\nTravis Moen hit Mark Fraser\n{'id': 8, 'name': 'Montréal Canadiens', 'link': '/api/v1/teams/8', 'triCode': 'MTL'}\nHIT: {'x': -97.0, 'y': -32.0}\nRene Bourque hit Carter Ashton\n{'id': 8, 'name': 'Montréal Canadiens', 'link': '/api/v1/teams/8', 'triCode': 'MTL'}\nHIT: {'x': -35.0, 'y': 37.0}\nMax Pacioretty hit Joffrey Lupul\n{'id': 8, 'name': 'Montréal Canadiens', 'link': '/api/v1/teams/8', 'triCode': 'MTL'}\nHIT: {'x': -95.0, 'y': -9.0}\nRaphael Diaz hit James van Riemsdyk\n{'id': 8, 'name': 'Montréal Canadiens', 'link': '/api/v1/teams/8', 'triCode': 'MTL'}\nHIT: {'x': -66.0, 'y': 41.0}\nLars Eller hit Joffrey Lupul\n{'id': 8, 'name': 'Montréal Canadiens', 'link': '/api/v1/teams/8', 'triCode': 'MTL'}\nHIT: {'x': -88.0, 'y': 32.0}\nJarred Tinordi hit Troy Bodie\n{'id': 8, 'name': 'Montréal Canadiens', 'link': '/api/v1/teams/8', 'triCode': 'MTL'}\nHIT: {'x': -93.0, 'y': -35.0}\nFrancis Bouillon hit James van Riemsdyk\n{'id': 8, 'name': 'Montréal Canadiens', 'link': '/api/v1/teams/8', 'triCode': 'MTL'}\nHIT: {'x': 70.0, 'y': 40.0}\nTroy Bodie hit Daniel Briere\n{'id': 10, 'name': 'Toronto Maple Leafs', 'link': '/api/v1/teams/10', 'triCode': 'TOR'}\nHIT: {'x': -60.0, 'y': 40.0}\nTroy Bodie hit Raphael Diaz\n{'id': 10, 'name': 'Toronto Maple Leafs', 'link': '/api/v1/teams/10', 'triCode': 'TOR'}\nHIT: {'x': 99.0, 'y': -31.0}\nNazem Kadri hit Josh Gorges\n{'id': 10, 'name': 'Toronto Maple Leafs', 'link': '/api/v1/teams/10', 'triCode': 'TOR'}\nHIT: {'x': 84.0, 'y': -40.0}\nNazem Kadri hit David Desharnais\n{'id': 10, 'name': 'Toronto Maple Leafs', 'link': '/api/v1/teams/10', 'triCode': 'TOR'}\nHIT: {'x': -38.0, 'y': -31.0}\nMark Fraser hit Alex Galchenyuk\n{'id': 10, 'name': 'Toronto Maple Leafs', 'link': '/api/v1/teams/10', 'triCode': 'TOR'}\nHIT: {'x': -94.0, 'y': 36.0}\nAlex Galchenyuk hit Mark Fraser\n{'id': 8, 'name': 'Montréal Canadiens', 'link': '/api/v1/teams/8', 'triCode': 'MTL'}\nHIT: {'x': -91.0, 'y': -38.0}\nCarl Gunnarsson hit Max Pacioretty\n{'id': 10, 'name': 'Toronto Maple Leafs', 'link': '/api/v1/teams/10', 'triCode': 'TOR'}\nHIT: {'x': 98.0, 'y': -22.0}\nJosh Gorges hit James van Riemsdyk\n{'id': 8, 'name': 'Montréal Canadiens', 'link': '/api/v1/teams/8', 'triCode': 'MTL'}\nHIT: {'x': -95.0, 'y': 22.0}\nTomas Plekanec hit Mark Fraser\n{'id': 8, 'name': 'Montréal Canadiens', 'link': '/api/v1/teams/8', 'triCode': 'MTL'}\nHIT: {'x': -92.0, 'y': 25.0}\nMark Fraser hit Travis Moen\n{'id': 10, 'name': 'Toronto Maple Leafs', 'link': '/api/v1/teams/10', 'triCode': 'TOR'}\nHIT: {'x': -94.0, 'y': 25.0}\nMark Fraser hit Brandon Prust\n{'id': 10, 'name': 'Toronto Maple Leafs', 'link': '/api/v1/teams/10', 'triCode': 'TOR'}\nHIT: {'x': 57.0, 'y': 40.0}\nTomas Plekanec hit Phil Kessel\n{'id': 8, 'name': 'Montréal Canadiens', 'link': '/api/v1/teams/8', 'triCode': 'MTL'}\nHIT: {'x': -48.0, 'y': 0.0}\nPhil Kessel hit Andrei Markov\n{'id': 10, 'name': 'Toronto Maple Leafs', 'link': '/api/v1/teams/10', 'triCode': 'TOR'}\nHIT: {'x': -34.0, 'y': 41.0}\nDave Bolland hit Andrei Markov\n{'id': 10, 'name': 'Toronto Maple Leafs', 'link': '/api/v1/teams/10', 'triCode': 'TOR'}\n"
     ]
    }
   ],
   "source": [
    "plays_len = len(game_json['liveData']['plays']['allPlays'])\n",
    "for i in range(plays_len):\n",
    "    event_type = game_json['liveData']['plays']['allPlays'][i]['result']['eventTypeId']\n",
    "    coords = game_json['liveData']['plays']['allPlays'][i]['coordinates']\n",
    "    if \"HIT\" in event_type:\n",
    "        print(f\"{event_type}: {coords}\")\n",
    "        print(game_json['liveData']['plays']['allPlays'][i]['result']['description'])\n",
    "        print(game_json['liveData']['plays']['allPlays'][i]['team'])\n"
   ],
   "metadata": {
    "collapsed": false,
    "pycharm": {
     "name": "#%%\n"
    }
   }
  }
 ]
}